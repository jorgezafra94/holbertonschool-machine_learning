{
  "nbformat": 4,
  "nbformat_minor": 0,
  "metadata": {
    "colab": {
      "name": "TransfLearning.ipynb",
      "provenance": []
    },
    "kernelspec": {
      "name": "python3",
      "display_name": "Python 3"
    },
    "accelerator": "GPU"
  },
  "cells": [
    {
      "cell_type": "code",
      "metadata": {
        "id": "E38431ouu8Rx",
        "colab_type": "code",
        "colab": {
          "base_uri": "https://localhost:8080/",
          "height": 34
        },
        "outputId": "bc84a8eb-8bbe-4f3c-eec8-6632ad791f75"
      },
      "source": [
        "%tensorflow_version 1.x\n"
      ],
      "execution_count": null,
      "outputs": [
        {
          "output_type": "stream",
          "text": [
            "TensorFlow 1.x selected.\n"
          ],
          "name": "stdout"
        }
      ]
    },
    {
      "cell_type": "code",
      "metadata": {
        "id": "_mTW7812vUsW",
        "colab_type": "code",
        "colab": {}
      },
      "source": [
        "import tensorflow.keras as K\n",
        "import tensorflow as tf\n",
        "import numpy as np\n"
      ],
      "execution_count": null,
      "outputs": []
    },
    {
      "cell_type": "code",
      "metadata": {
        "id": "nmZxppO0vClF",
        "colab_type": "code",
        "colab": {
          "base_uri": "https://localhost:8080/",
          "height": 50
        },
        "outputId": "730679cf-dcb4-4a8b-fcfb-b3ea6de923c5"
      },
      "source": [
        "Train, Test = K.datasets.cifar10.load_data()\n",
        "(x_train, y_train) = Train\n",
        "(x_test, y_test) = Test"
      ],
      "execution_count": null,
      "outputs": [
        {
          "output_type": "stream",
          "text": [
            "Downloading data from https://www.cs.toronto.edu/~kriz/cifar-10-python.tar.gz\n",
            "170500096/170498071 [==============================] - 2s 0us/step\n"
          ],
          "name": "stdout"
        }
      ]
    },
    {
      "cell_type": "code",
      "metadata": {
        "id": "_wUJpuIjvQyU",
        "colab_type": "code",
        "colab": {}
      },
      "source": [
        "def preprocess_data(X, Y):\n",
        "    \"\"\"\n",
        "    * X is a numpy.ndarray of shape (m, 32, 32, 3) containing\n",
        "        the CIFAR 10 data, where m is the number of data points\n",
        "    * Y is a numpy.ndarray of shape (m,) containing the CIFAR 10\n",
        "        labels for X\n",
        "        Returns: X_p, Y_p\n",
        "    * X_p is a numpy.ndarray containing the preprocessed X\n",
        "    * Y_p is a numpy.ndarray containing the preprocessed Y\n",
        "    \"\"\"\n",
        "    X_p = K.applications.densenet.preprocess_input(X)    \n",
        "    Y_p = K.utils.to_categorical(y=Y, num_classes=10)\n",
        "    return (X_p, Y_p)"
      ],
      "execution_count": null,
      "outputs": []
    },
    {
      "cell_type": "code",
      "metadata": {
        "id": "7L3saWkLvgd9",
        "colab_type": "code",
        "colab": {}
      },
      "source": [
        "xp_train, yp_train = preprocess_data(x_train, y_train)\n",
        "xp_test, yp_test = preprocess_data(x_test, y_test)"
      ],
      "execution_count": null,
      "outputs": []
    },
    {
      "cell_type": "code",
      "metadata": {
        "id": "JeBf8GIivY3g",
        "colab_type": "code",
        "colab": {
          "base_uri": "https://localhost:8080/",
          "height": 524
        },
        "outputId": "77064ff3-e2c2-4db4-ed33-adc3703c9340"
      },
      "source": [
        "    lay_init = K.initializers.he_normal()\n",
        "    # pre_model  \n",
        "    entrada = K.Input(shape=(32, 32, 3))\n",
        "    resize = K.layers.Lambda(lambda image: tf.image.resize(image, (155, 155)))(entrada)\n",
        "    dense169 = K.applications.DenseNet169(include_top=False, weights=\"imagenet\", input_tensor=resize)\n",
        "    dense169.trainable = False\n",
        "    out_pre = dense169(resize, training=False)\n",
        " \n",
        "    vector = K.layers.Flatten()(out_pre)\n",
        "    drop1 = K.layers.Dropout(0.3)(vector)\n",
        "    norm_lay1 = K.layers.BatchNormalization()(drop1)\n",
        "    FC1 = K.layers.Dense(units=510, activation='relu', kernel_initializer=lay_init)(norm_lay1)\n",
        "    norm_lay2 = K.layers.BatchNormalization()(FC1)\n",
        "    out = K.layers.Dense(units=10, activation='softmax', kernel_initializer=lay_init)(norm_lay2)\n",
        " \n",
        "    model = K.models.Model(inputs=entrada, outputs=out)\n",
        "    \n",
        "    learn_dec = K.callbacks.ReduceLROnPlateau(monitor='val_loss', factor=0.1, patience=2)\n",
        "    early = K.callbacks.EarlyStopping(patience=5)\n",
        "    save = K.callbacks.ModelCheckpoint(filepath='cifar10.h5', save_best_only=True, monitor='val_loss', mode='min')\n",
        "\n",
        "    model.compile(loss='categorical_crossentropy', optimizer='adam', metrics=['accuracy'])\n",
        "    model.fit(x=xp_train, y=yp_train, batch_size=32, epochs=15, verbose=1, validation_data=(xp_test, yp_test), callbacks=[save, early, learn_dec])\n",
        "\n"
      ],
      "execution_count": null,
      "outputs": [
        {
          "output_type": "stream",
          "text": [
            "WARNING:tensorflow:From /tensorflow-1.15.2/python3.6/tensorflow_core/python/ops/resource_variable_ops.py:1630: calling BaseResourceVariable.__init__ (from tensorflow.python.ops.resource_variable_ops) with constraint is deprecated and will be removed in a future version.\n",
            "Instructions for updating:\n",
            "If using Keras pass *_constraint arguments to layers.\n",
            "Downloading data from https://github.com/keras-team/keras-applications/releases/download/densenet/densenet169_weights_tf_dim_ordering_tf_kernels_notop.h5\n",
            "51879936/51877672 [==============================] - 0s 0us/step\n",
            "Train on 50000 samples, validate on 10000 samples\n",
            "Epoch 1/15\n",
            "50000/50000 [==============================] - 171s 3ms/sample - loss: 0.3975 - acc: 0.8710 - val_loss: 0.2782 - val_acc: 0.9030\n",
            "Epoch 2/15\n",
            "50000/50000 [==============================] - 157s 3ms/sample - loss: 0.2193 - acc: 0.9248 - val_loss: 0.2778 - val_acc: 0.9059\n",
            "Epoch 3/15\n",
            "50000/50000 [==============================] - 157s 3ms/sample - loss: 0.1536 - acc: 0.9460 - val_loss: 0.2915 - val_acc: 0.9106\n",
            "Epoch 4/15\n",
            "50000/50000 [==============================] - 157s 3ms/sample - loss: 0.1129 - acc: 0.9608 - val_loss: 0.2862 - val_acc: 0.9131\n",
            "Epoch 5/15\n",
            "50000/50000 [==============================] - 158s 3ms/sample - loss: 0.0566 - acc: 0.9813 - val_loss: 0.2553 - val_acc: 0.9245\n",
            "Epoch 6/15\n",
            "50000/50000 [==============================] - 157s 3ms/sample - loss: 0.0387 - acc: 0.9885 - val_loss: 0.2523 - val_acc: 0.9245\n",
            "Epoch 7/15\n",
            "50000/50000 [==============================] - 157s 3ms/sample - loss: 0.0293 - acc: 0.9922 - val_loss: 0.2547 - val_acc: 0.9264\n",
            "Epoch 8/15\n",
            "50000/50000 [==============================] - 157s 3ms/sample - loss: 0.0236 - acc: 0.9939 - val_loss: 0.2635 - val_acc: 0.9249\n",
            "Epoch 9/15\n",
            "50000/50000 [==============================] - 157s 3ms/sample - loss: 0.0196 - acc: 0.9950 - val_loss: 0.2619 - val_acc: 0.9265\n",
            "Epoch 10/15\n",
            "50000/50000 [==============================] - 157s 3ms/sample - loss: 0.0184 - acc: 0.9956 - val_loss: 0.2626 - val_acc: 0.9266\n",
            "Epoch 11/15\n",
            "50000/50000 [==============================] - 156s 3ms/sample - loss: 0.0185 - acc: 0.9960 - val_loss: 0.2611 - val_acc: 0.9263\n"
          ],
          "name": "stdout"
        },
        {
          "output_type": "execute_result",
          "data": {
            "text/plain": [
              "<tensorflow.python.keras.callbacks.History at 0x7efca33cc358>"
            ]
          },
          "metadata": {
            "tags": []
          },
          "execution_count": 6
        }
      ]
    },
    {
      "cell_type": "code",
      "metadata": {
        "id": "Z5qi8fNOJHmm",
        "colab_type": "code",
        "colab": {
          "base_uri": "https://localhost:8080/",
          "height": 238
        },
        "outputId": "4849941a-42f4-41f0-9972-21c1407f6522"
      },
      "source": [
        "K.learning_phase = K.backend.learning_phase\n",
        "K.is_sparse = K.backend.is_sparse\n",
        "m = K.models.load_model('cifar10.h5')"
      ],
      "execution_count": null,
      "outputs": [
        {
          "output_type": "stream",
          "text": [
            "WARNING:tensorflow:From /tensorflow-1.15.2/python3.6/tensorflow_core/python/ops/init_ops.py:97: calling GlorotUniform.__init__ (from tensorflow.python.ops.init_ops) with dtype is deprecated and will be removed in a future version.\n",
            "Instructions for updating:\n",
            "Call initializer instance with the dtype argument instead of passing it to the constructor\n",
            "WARNING:tensorflow:From /tensorflow-1.15.2/python3.6/tensorflow_core/python/ops/init_ops.py:97: calling Zeros.__init__ (from tensorflow.python.ops.init_ops) with dtype is deprecated and will be removed in a future version.\n",
            "Instructions for updating:\n",
            "Call initializer instance with the dtype argument instead of passing it to the constructor\n",
            "WARNING:tensorflow:From /tensorflow-1.15.2/python3.6/tensorflow_core/python/ops/init_ops.py:97: calling Ones.__init__ (from tensorflow.python.ops.init_ops) with dtype is deprecated and will be removed in a future version.\n",
            "Instructions for updating:\n",
            "Call initializer instance with the dtype argument instead of passing it to the constructor\n",
            "WARNING:tensorflow:From /tensorflow-1.15.2/python3.6/tensorflow_core/python/ops/init_ops.py:97: calling VarianceScaling.__init__ (from tensorflow.python.ops.init_ops) with dtype is deprecated and will be removed in a future version.\n",
            "Instructions for updating:\n",
            "Call initializer instance with the dtype argument instead of passing it to the constructor\n"
          ],
          "name": "stdout"
        }
      ]
    },
    {
      "cell_type": "code",
      "metadata": {
        "id": "_z1Hxq1jJ_oy",
        "colab_type": "code",
        "colab": {
          "base_uri": "https://localhost:8080/",
          "height": 50
        },
        "outputId": "feec89b5-89df-4b1a-cda1-b4b56988d967"
      },
      "source": [
        "m.evaluate(xp_test, yp_test, verbose=1)"
      ],
      "execution_count": null,
      "outputs": [
        {
          "output_type": "stream",
          "text": [
            "10000/10000 [==============================] - 26s 3ms/sample - loss: 0.2523 - acc: 0.9245\n"
          ],
          "name": "stdout"
        },
        {
          "output_type": "execute_result",
          "data": {
            "text/plain": [
              "[0.25232971940934656, 0.9245]"
            ]
          },
          "metadata": {
            "tags": []
          },
          "execution_count": 8
        }
      ]
    }
  ]
}