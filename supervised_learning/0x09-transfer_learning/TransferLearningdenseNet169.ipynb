{
  "nbformat": 4,
  "nbformat_minor": 0,
  "metadata": {
    "colab": {
      "name": "TransferLearningdenseNet169.ipynb",
      "provenance": [],
      "collapsed_sections": []
    },
    "kernelspec": {
      "name": "python3",
      "display_name": "Python 3"
    },
    "accelerator": "GPU"
  },
  "cells": [
    {
      "cell_type": "code",
      "metadata": {
        "id": "uflX2aFmHgL1",
        "colab_type": "code",
        "colab": {
          "base_uri": "https://localhost:8080/",
          "height": 34
        },
        "outputId": "51c609c4-71f6-4ff8-8962-0732f00283a2"
      },
      "source": [
        "%tensorflow_version 1.x"
      ],
      "execution_count": 1,
      "outputs": [
        {
          "output_type": "stream",
          "text": [
            "TensorFlow 1.x selected.\n"
          ],
          "name": "stdout"
        }
      ]
    },
    {
      "cell_type": "code",
      "metadata": {
        "id": "Kc3paqmP6XgK",
        "colab_type": "code",
        "colab": {}
      },
      "source": [
        "#!/usr/bin/env python3\n",
        "\"\"\"\n",
        "Transfer Learning\n",
        "\"\"\"\n",
        "\n",
        "import tensorflow.keras as K\n",
        "import tensorflow as tf\n",
        "import numpy as np\n",
        "\n",
        "def preprocess_data(X, Y):\n",
        "    \"\"\"\n",
        "    * X is a numpy.ndarray of shape (m, 32, 32, 3) containing\n",
        "        the CIFAR 10 data, where m is the number of data points\n",
        "    * Y is a numpy.ndarray of shape (m,) containing the CIFAR 10\n",
        "        labels for X\n",
        "        Returns: X_p, Y_p\n",
        "    * X_p is a numpy.ndarray containing the preprocessed X\n",
        "    * Y_p is a numpy.ndarray containing the preprocessed Y\n",
        "    \"\"\"\n",
        "    \n",
        "    entrada = K.Input(shape=(32, 32, 3))\n",
        "    resize = K.layers.Lambda(lambda image: tf.image.resize(image, (150, 150)))(entrada)\n",
        "    dense169 = K.applications.DenseNet169(include_top=False, weights=\"imagenet\", input_tensor=resize)\n",
        "    out = dense169(resize)\n",
        "    pre_model = K.models.Model(inputs=entrada, outputs=out)\n",
        "\n",
        "    X_p = K.applications.densenet.preprocess_input(X)\n",
        "    features = pre_model.predict(X_p)\n",
        "    Y_p = K.utils.to_categorical(y=Y, num_classes=10)\n",
        "    return (features, Y_p)\n"
      ],
      "execution_count": 2,
      "outputs": []
    },
    {
      "cell_type": "code",
      "metadata": {
        "id": "6maNgLIaP30Q",
        "colab_type": "code",
        "colab": {
          "base_uri": "https://localhost:8080/",
          "height": 154
        },
        "outputId": "8ab522e3-821c-46e7-dd0f-fec14f665143"
      },
      "source": [
        "  # getting info\n",
        "  (x_train, y_train), (x_test, y_test) = K.datasets.cifar10.load_data()\n",
        "  # preprocessing\n",
        "  x_p, y_p = preprocess_data(x_train, y_train)\n",
        "  X_p, Y_p = preprocess_data(x_test, y_test)\n"
      ],
      "execution_count": 3,
      "outputs": [
        {
          "output_type": "stream",
          "text": [
            "Downloading data from https://www.cs.toronto.edu/~kriz/cifar-10-python.tar.gz\n",
            "170500096/170498071 [==============================] - 2s 0us/step\n",
            "WARNING:tensorflow:From /tensorflow-1.15.2/python3.6/tensorflow_core/python/ops/resource_variable_ops.py:1630: calling BaseResourceVariable.__init__ (from tensorflow.python.ops.resource_variable_ops) with constraint is deprecated and will be removed in a future version.\n",
            "Instructions for updating:\n",
            "If using Keras pass *_constraint arguments to layers.\n",
            "Downloading data from https://github.com/keras-team/keras-applications/releases/download/densenet/densenet169_weights_tf_dim_ordering_tf_kernels_notop.h5\n",
            "51879936/51877672 [==============================] - 0s 0us/step\n"
          ],
          "name": "stdout"
        }
      ]
    },
    {
      "cell_type": "code",
      "metadata": {
        "id": "0TuKpLww6kSF",
        "colab_type": "code",
        "colab": {
          "base_uri": "https://localhost:8080/",
          "height": 269
        },
        "outputId": "bdc59a81-f7cb-4776-e4d3-32e3db46227b"
      },
      "source": [
        "if __name__ == \"__main__\":\n",
        "\n",
        "    lay_init = K.initializers.he_normal()\n",
        "\n",
        "    new_input = K.Input(shape=x_p.shape[1:])\n",
        "    vector = K.layers.Flatten()(new_input)\n",
        "    \n",
        "    drop1 = K.layers.Dropout(0.3)(vector)\n",
        "    norm_lay1 = K.layers.BatchNormalization()(drop1)\n",
        "    FC1 = K.layers.Dense(units=510, activation='relu', kernel_initializer=lay_init)(norm_lay1)\n",
        "    norm_lay2 = K.layers.BatchNormalization()(FC1)\n",
        "    out = K.layers.Dense(units=10, activation='softmax', kernel_initializer=lay_init)(norm_lay2)\n",
        " \n",
        "    model = K.models.Model(inputs=new_input, outputs=out)\n",
        "    \n",
        "    learn_dec = K.callbacks.ReduceLROnPlateau(monitor='val_acc', factor=0.1, patience=2)\n",
        "   \n",
        "    early = K.callbacks.EarlyStopping(patience=5)\n",
        "    save = K.callbacks.ModelCheckpoint(filepath='cifar10.h5', save_best_only=True, monitor='val_acc', mode='max')\n",
        "\n",
        "    model.compile(loss='categorical_crossentropy', optimizer='adam', metrics=['accuracy'])\n",
        "    model.fit(x=x_p, y=y_p, batch_size=32, epochs=15, verbose=1, validation_data=(X_p, Y_p), callbacks=[save, early, learn_dec])"
      ],
      "execution_count": 4,
      "outputs": [
        {
          "output_type": "stream",
          "text": [
            "Train on 50000 samples, validate on 10000 samples\n",
            "Epoch 1/15\n",
            "50000/50000 [==============================] - 34s 679us/sample - loss: 0.3951 - acc: 0.8706 - val_loss: 0.2800 - val_acc: 0.9026\n",
            "Epoch 2/15\n",
            "50000/50000 [==============================] - 24s 486us/sample - loss: 0.2177 - acc: 0.9246 - val_loss: 0.2662 - val_acc: 0.9080\n",
            "Epoch 3/15\n",
            "50000/50000 [==============================] - 25s 498us/sample - loss: 0.1506 - acc: 0.9466 - val_loss: 0.2705 - val_acc: 0.9142\n",
            "Epoch 4/15\n",
            "50000/50000 [==============================] - 24s 475us/sample - loss: 0.1130 - acc: 0.9599 - val_loss: 0.2964 - val_acc: 0.9104\n",
            "Epoch 5/15\n",
            "50000/50000 [==============================] - 26s 512us/sample - loss: 0.0813 - acc: 0.9720 - val_loss: 0.3126 - val_acc: 0.9115\n",
            "Epoch 6/15\n",
            "50000/50000 [==============================] - 24s 484us/sample - loss: 0.0420 - acc: 0.9860 - val_loss: 0.2739 - val_acc: 0.9233\n",
            "Epoch 7/15\n",
            "50000/50000 [==============================] - 24s 482us/sample - loss: 0.0276 - acc: 0.9916 - val_loss: 0.2675 - val_acc: 0.9256\n"
          ],
          "name": "stdout"
        }
      ]
    },
    {
      "cell_type": "code",
      "metadata": {
        "id": "nI53ZCj2R6nJ",
        "colab_type": "code",
        "colab": {
          "base_uri": "https://localhost:8080/",
          "height": 222
        },
        "outputId": "02397344-e7b5-4cfe-c84a-fa2ab5be93c0"
      },
      "source": [
        "\n",
        "modelL = K.models.load_model('cifar10.h5')\n",
        "modelL.evaluate(X_p, Y_p, batch_size=128, verbose=1)\n"
      ],
      "execution_count": 5,
      "outputs": [
        {
          "output_type": "stream",
          "text": [
            "WARNING:tensorflow:From /tensorflow-1.15.2/python3.6/tensorflow_core/python/ops/init_ops.py:97: calling Zeros.__init__ (from tensorflow.python.ops.init_ops) with dtype is deprecated and will be removed in a future version.\n",
            "Instructions for updating:\n",
            "Call initializer instance with the dtype argument instead of passing it to the constructor\n",
            "WARNING:tensorflow:From /tensorflow-1.15.2/python3.6/tensorflow_core/python/ops/init_ops.py:97: calling Ones.__init__ (from tensorflow.python.ops.init_ops) with dtype is deprecated and will be removed in a future version.\n",
            "Instructions for updating:\n",
            "Call initializer instance with the dtype argument instead of passing it to the constructor\n",
            "WARNING:tensorflow:From /tensorflow-1.15.2/python3.6/tensorflow_core/python/ops/init_ops.py:97: calling VarianceScaling.__init__ (from tensorflow.python.ops.init_ops) with dtype is deprecated and will be removed in a future version.\n",
            "Instructions for updating:\n",
            "Call initializer instance with the dtype argument instead of passing it to the constructor\n",
            "10000/10000 [==============================] - 2s 213us/sample - loss: 0.2675 - acc: 0.9256\n"
          ],
          "name": "stdout"
        },
        {
          "output_type": "execute_result",
          "data": {
            "text/plain": [
              "[0.2674740501880646, 0.9256]"
            ]
          },
          "metadata": {
            "tags": []
          },
          "execution_count": 5
        }
      ]
    }
  ]
}