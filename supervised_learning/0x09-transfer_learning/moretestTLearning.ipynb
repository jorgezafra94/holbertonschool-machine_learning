{
  "nbformat": 4,
  "nbformat_minor": 0,
  "metadata": {
    "colab": {
      "name": "moretestTLearning.ipynb",
      "provenance": []
    },
    "kernelspec": {
      "name": "python3",
      "display_name": "Python 3"
    },
    "accelerator": "GPU"
  },
  "cells": [
    {
      "cell_type": "code",
      "metadata": {
        "id": "GH_WOOYfRjAg",
        "colab_type": "code",
        "colab": {
          "base_uri": "https://localhost:8080/",
          "height": 34
        },
        "outputId": "e32169fa-3038-4819-e830-d10a8454a463"
      },
      "source": [
        "%tensorflow_version 1.x"
      ],
      "execution_count": 1,
      "outputs": [
        {
          "output_type": "stream",
          "text": [
            "TensorFlow 1.x selected.\n"
          ],
          "name": "stdout"
        }
      ]
    },
    {
      "cell_type": "code",
      "metadata": {
        "id": "bd_SQ4l8RrLD",
        "colab_type": "code",
        "colab": {}
      },
      "source": [
        "import tensorflow.keras as K\n",
        "import tensorflow as tf\n",
        "import numpy as np"
      ],
      "execution_count": 2,
      "outputs": []
    },
    {
      "cell_type": "code",
      "metadata": {
        "id": "SHq_zrblRtUe",
        "colab_type": "code",
        "colab": {
          "base_uri": "https://localhost:8080/",
          "height": 50
        },
        "outputId": "8f8fa0bb-e16a-485c-e388-d65cc41aa220"
      },
      "source": [
        "Train, Test = K.datasets.cifar10.load_data()\n",
        "(x_train, y_train) = Train\n",
        "(x_test, y_test) = Test"
      ],
      "execution_count": 3,
      "outputs": [
        {
          "output_type": "stream",
          "text": [
            "Downloading data from https://www.cs.toronto.edu/~kriz/cifar-10-python.tar.gz\n",
            "170500096/170498071 [==============================] - 11s 0us/step\n"
          ],
          "name": "stdout"
        }
      ]
    },
    {
      "cell_type": "code",
      "metadata": {
        "id": "LT3E2-2tRxpU",
        "colab_type": "code",
        "colab": {}
      },
      "source": [
        "def preprocess_data(X, Y):\n",
        "    \"\"\"\n",
        "    * X is a numpy.ndarray of shape (m, 32, 32, 3) containing\n",
        "        the CIFAR 10 data, where m is the number of data points\n",
        "    * Y is a numpy.ndarray of shape (m,) containing the CIFAR 10\n",
        "        labels for X\n",
        "        Returns: X_p, Y_p\n",
        "    * X_p is a numpy.ndarray containing the preprocessed X\n",
        "    * Y_p is a numpy.ndarray containing the preprocessed Y\n",
        "    \"\"\"\n",
        "    X_p = K.applications.densenet.preprocess_input(X)    \n",
        "    Y_p = K.utils.to_categorical(y=Y, num_classes=10)\n",
        "    return (X_p, Y_p)"
      ],
      "execution_count": 4,
      "outputs": []
    },
    {
      "cell_type": "code",
      "metadata": {
        "id": "GV4L-E2oR0BK",
        "colab_type": "code",
        "colab": {}
      },
      "source": [
        "xp_train, yp_train = preprocess_data(x_train, y_train)\n",
        "xp_test, yp_test = preprocess_data(x_test, y_test)"
      ],
      "execution_count": 5,
      "outputs": []
    },
    {
      "cell_type": "code",
      "metadata": {
        "id": "AR0kKuwyR08C",
        "colab_type": "code",
        "colab": {
          "base_uri": "https://localhost:8080/",
          "height": 591
        },
        "outputId": "98ed1659-c1ae-47bb-9fdf-e2432b3a2fbd"
      },
      "source": [
        "lay_init = K.initializers.he_normal()\n",
        "# pre_model  \n",
        "entrada = K.Input(shape=(32, 32, 3))\n",
        "resize = K.layers.Lambda(lambda image: tf.image.resize(image, (155, 155)))(entrada)\n",
        "dense169 = K.applications.DenseNet169(include_top=False, weights=\"imagenet\", input_tensor=resize)\n",
        "# dense169.trainable = False\n",
        "out_pre = dense169(resize)\n",
        " \n",
        "vector = K.layers.Flatten()(out_pre)\n",
        "drop1 = K.layers.Dropout(0.3)(vector)\n",
        "norm_lay1 = K.layers.BatchNormalization()(drop1)\n",
        "FC1 = K.layers.Dense(units=510, activation='relu', kernel_initializer=lay_init)(norm_lay1)\n",
        "norm_lay2 = K.layers.BatchNormalization()(FC1)\n",
        "out = K.layers.Dense(units=10, activation='softmax', kernel_initializer=lay_init)(norm_lay2)\n",
        " \n",
        "model = K.models.Model(inputs=entrada, outputs=out)\n",
        "   \n",
        "learn_dec = K.callbacks.ReduceLROnPlateau(monitor='val_loss', factor=0.1, patience=2)\n",
        "early = K.callbacks.EarlyStopping(patience=5)\n",
        "save = K.callbacks.ModelCheckpoint(filepath='cifar10.h5', save_best_only=True, monitor='val_loss', mode='min')\n",
        "\n",
        "model.compile(loss='categorical_crossentropy', optimizer='adam', metrics=['accuracy'])\n",
        "model.fit(x=xp_train, y=yp_train, batch_size=32, epochs=15, verbose=1, validation_data=(xp_test, yp_test), callbacks=[save, early, learn_dec])\n",
        "\n"
      ],
      "execution_count": 6,
      "outputs": [
        {
          "output_type": "stream",
          "text": [
            "WARNING:tensorflow:From /tensorflow-1.15.2/python3.6/tensorflow_core/python/ops/resource_variable_ops.py:1630: calling BaseResourceVariable.__init__ (from tensorflow.python.ops.resource_variable_ops) with constraint is deprecated and will be removed in a future version.\n",
            "Instructions for updating:\n",
            "If using Keras pass *_constraint arguments to layers.\n",
            "Downloading data from https://github.com/keras-team/keras-applications/releases/download/densenet/densenet169_weights_tf_dim_ordering_tf_kernels_notop.h5\n",
            "51879936/51877672 [==============================] - 5s 0us/step\n",
            "Train on 50000 samples, validate on 10000 samples\n",
            "Epoch 1/15\n",
            "50000/50000 [==============================] - 1255s 25ms/sample - loss: 0.7569 - acc: 0.7532 - val_loss: 1.1165 - val_acc: 0.8094\n",
            "Epoch 2/15\n",
            "50000/50000 [==============================] - 1194s 24ms/sample - loss: 0.4532 - acc: 0.8474 - val_loss: 1.0631 - val_acc: 0.8134\n",
            "Epoch 3/15\n",
            "50000/50000 [==============================] - 1195s 24ms/sample - loss: 0.3927 - acc: 0.8683 - val_loss: 0.6551 - val_acc: 0.8370\n",
            "Epoch 4/15\n",
            "50000/50000 [==============================] - 1196s 24ms/sample - loss: 0.3140 - acc: 0.8925 - val_loss: 1.3636 - val_acc: 0.8252\n",
            "Epoch 5/15\n",
            "50000/50000 [==============================] - 1195s 24ms/sample - loss: 0.2528 - acc: 0.9125 - val_loss: 0.9293 - val_acc: 0.8748\n",
            "Epoch 6/15\n",
            "50000/50000 [==============================] - 1195s 24ms/sample - loss: 0.0944 - acc: 0.9688 - val_loss: 0.5961 - val_acc: 0.9261\n",
            "Epoch 7/15\n",
            "50000/50000 [==============================] - 1194s 24ms/sample - loss: 0.0481 - acc: 0.9841 - val_loss: 0.4296 - val_acc: 0.9343\n",
            "Epoch 8/15\n",
            "50000/50000 [==============================] - 1196s 24ms/sample - loss: 0.0271 - acc: 0.9918 - val_loss: 0.3104 - val_acc: 0.9401\n",
            "Epoch 9/15\n",
            "50000/50000 [==============================] - 1193s 24ms/sample - loss: 0.0188 - acc: 0.9942 - val_loss: 0.5235 - val_acc: 0.9318\n",
            "Epoch 10/15\n",
            "50000/50000 [==============================] - 1191s 24ms/sample - loss: 0.0129 - acc: 0.9963 - val_loss: 0.3752 - val_acc: 0.9382\n",
            "Epoch 11/15\n",
            "50000/50000 [==============================] - 1189s 24ms/sample - loss: 0.0085 - acc: 0.9976 - val_loss: 0.4064 - val_acc: 0.9387\n",
            "Epoch 12/15\n",
            "50000/50000 [==============================] - 1194s 24ms/sample - loss: 0.0068 - acc: 0.9983 - val_loss: 0.4076 - val_acc: 0.9399\n",
            "Epoch 13/15\n",
            "50000/50000 [==============================] - 1194s 24ms/sample - loss: 0.0054 - acc: 0.9988 - val_loss: 0.3258 - val_acc: 0.9424\n"
          ],
          "name": "stdout"
        },
        {
          "output_type": "execute_result",
          "data": {
            "text/plain": [
              "<tensorflow.python.keras.callbacks.History at 0x7efdab951b70>"
            ]
          },
          "metadata": {
            "tags": []
          },
          "execution_count": 6
        }
      ]
    },
    {
      "cell_type": "code",
      "metadata": {
        "id": "GoH_sBODfqg7",
        "colab_type": "code",
        "colab": {
          "base_uri": "https://localhost:8080/",
          "height": 50
        },
        "outputId": "d4869ed8-4ac9-481a-f193-0cdd95b031ca"
      },
      "source": [
        "K.learning_phase = K.backend.learning_phase\n",
        "K.is_sparse = K.backend.is_sparse\n",
        "modelL = K.models.load_model('cifar10.h5')\n",
        "modelL.evaluate(xp_test, yp_test, batch_size=128, verbose=1)\n"
      ],
      "execution_count": 9,
      "outputs": [
        {
          "output_type": "stream",
          "text": [
            "10000/10000 [==============================] - 49s 5ms/sample - loss: 0.3104 - acc: 0.9401\n"
          ],
          "name": "stdout"
        },
        {
          "output_type": "execute_result",
          "data": {
            "text/plain": [
              "[0.3104340977191925, 0.9401]"
            ]
          },
          "metadata": {
            "tags": []
          },
          "execution_count": 9
        }
      ]
    }
  ]
}