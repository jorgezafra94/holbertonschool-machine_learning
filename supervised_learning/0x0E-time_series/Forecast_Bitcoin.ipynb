{
  "nbformat": 4,
  "nbformat_minor": 0,
  "metadata": {
    "colab": {
      "name": "Forecast_Bitcoin.ipynb",
      "provenance": [],
      "collapsed_sections": []
    },
    "kernelspec": {
      "name": "python3",
      "display_name": "Python 3"
    }
  },
  "cells": [
    {
      "cell_type": "code",
      "metadata": {
        "id": "Pro9r9T9qP6k",
        "colab_type": "code",
        "colab": {
          "base_uri": "https://localhost:8080/",
          "height": 70
        },
        "outputId": "2b6f6e32-c4a1-4a78-f3f1-80f38a431e9e"
      },
      "source": [
        "import os\n",
        "import datetime as dt\n",
        "\n",
        "import IPython\n",
        "import IPython.display\n",
        "import matplotlib as mpl\n",
        "import matplotlib.pyplot as plt\n",
        "import numpy as np\n",
        "import pandas as pd\n",
        "import seaborn as sns\n",
        "import tensorflow as tf"
      ],
      "execution_count": 1,
      "outputs": [
        {
          "output_type": "stream",
          "text": [
            "/usr/local/lib/python3.6/dist-packages/statsmodels/tools/_testing.py:19: FutureWarning: pandas.util.testing is deprecated. Use the functions in the public API at pandas.testing instead.\n",
            "  import pandas.util.testing as tm\n"
          ],
          "name": "stderr"
        }
      ]
    },
    {
      "cell_type": "code",
      "metadata": {
        "id": "Yb6C7KdEqoH1",
        "colab_type": "code",
        "colab": {
          "base_uri": "https://localhost:8080/",
          "height": 195
        },
        "outputId": "746465dd-290e-4747-f92e-8546146c68bf"
      },
      "source": [
        "new_df = pd.read_csv(\"data.csv\")\n",
        "new_df.head()"
      ],
      "execution_count": 2,
      "outputs": [
        {
          "output_type": "execute_result",
          "data": {
            "text/html": [
              "<div>\n",
              "<style scoped>\n",
              "    .dataframe tbody tr th:only-of-type {\n",
              "        vertical-align: middle;\n",
              "    }\n",
              "\n",
              "    .dataframe tbody tr th {\n",
              "        vertical-align: top;\n",
              "    }\n",
              "\n",
              "    .dataframe thead th {\n",
              "        text-align: right;\n",
              "    }\n",
              "</style>\n",
              "<table border=\"1\" class=\"dataframe\">\n",
              "  <thead>\n",
              "    <tr style=\"text-align: right;\">\n",
              "      <th></th>\n",
              "      <th>Timestamp</th>\n",
              "      <th>Low</th>\n",
              "      <th>Volume_(BTC)</th>\n",
              "      <th>Volume_(Currency)</th>\n",
              "      <th>Weighted_Price</th>\n",
              "      <th>High</th>\n",
              "      <th>Close</th>\n",
              "      <th>Open</th>\n",
              "    </tr>\n",
              "  </thead>\n",
              "  <tbody>\n",
              "    <tr>\n",
              "      <th>0</th>\n",
              "      <td>2017-01-01 00:00:00</td>\n",
              "      <td>964.60</td>\n",
              "      <td>102.484806</td>\n",
              "      <td>99027.385808</td>\n",
              "      <td>57003.105500</td>\n",
              "      <td>966.99</td>\n",
              "      <td>966.60</td>\n",
              "      <td>966.34</td>\n",
              "    </tr>\n",
              "    <tr>\n",
              "      <th>1</th>\n",
              "      <td>2017-01-01 01:00:00</td>\n",
              "      <td>962.54</td>\n",
              "      <td>149.025554</td>\n",
              "      <td>143716.718251</td>\n",
              "      <td>57850.650345</td>\n",
              "      <td>966.60</td>\n",
              "      <td>963.87</td>\n",
              "      <td>966.60</td>\n",
              "    </tr>\n",
              "    <tr>\n",
              "      <th>2</th>\n",
              "      <td>2017-01-01 02:00:00</td>\n",
              "      <td>961.99</td>\n",
              "      <td>94.267396</td>\n",
              "      <td>90901.736168</td>\n",
              "      <td>57845.805546</td>\n",
              "      <td>965.75</td>\n",
              "      <td>963.97</td>\n",
              "      <td>964.35</td>\n",
              "    </tr>\n",
              "    <tr>\n",
              "      <th>3</th>\n",
              "      <td>2017-01-01 03:00:00</td>\n",
              "      <td>960.53</td>\n",
              "      <td>77.619667</td>\n",
              "      <td>74736.649237</td>\n",
              "      <td>57834.205077</td>\n",
              "      <td>964.71</td>\n",
              "      <td>962.83</td>\n",
              "      <td>963.97</td>\n",
              "    </tr>\n",
              "    <tr>\n",
              "      <th>4</th>\n",
              "      <td>2017-01-01 04:00:00</td>\n",
              "      <td>960.60</td>\n",
              "      <td>46.810220</td>\n",
              "      <td>45054.655498</td>\n",
              "      <td>57772.256943</td>\n",
              "      <td>963.64</td>\n",
              "      <td>963.46</td>\n",
              "      <td>960.61</td>\n",
              "    </tr>\n",
              "  </tbody>\n",
              "</table>\n",
              "</div>"
            ],
            "text/plain": [
              "             Timestamp     Low  Volume_(BTC)  ...    High   Close    Open\n",
              "0  2017-01-01 00:00:00  964.60    102.484806  ...  966.99  966.60  966.34\n",
              "1  2017-01-01 01:00:00  962.54    149.025554  ...  966.60  963.87  966.60\n",
              "2  2017-01-01 02:00:00  961.99     94.267396  ...  965.75  963.97  964.35\n",
              "3  2017-01-01 03:00:00  960.53     77.619667  ...  964.71  962.83  963.97\n",
              "4  2017-01-01 04:00:00  960.60     46.810220  ...  963.64  963.46  960.61\n",
              "\n",
              "[5 rows x 8 columns]"
            ]
          },
          "metadata": {
            "tags": []
          },
          "execution_count": 2
        }
      ]
    },
    {
      "cell_type": "code",
      "metadata": {
        "id": "zfdB2sZR8zd6",
        "colab_type": "code",
        "colab": {
          "base_uri": "https://localhost:8080/",
          "height": 34
        },
        "outputId": "e33da8f2-82ea-4e41-d834-bb8a30ab01bd"
      },
      "source": [
        "new_df.shape"
      ],
      "execution_count": 3,
      "outputs": [
        {
          "output_type": "execute_result",
          "data": {
            "text/plain": [
              "(28969, 8)"
            ]
          },
          "metadata": {
            "tags": []
          },
          "execution_count": 3
        }
      ]
    },
    {
      "cell_type": "code",
      "metadata": {
        "id": "TtxLj_zlqqQL",
        "colab_type": "code",
        "colab": {
          "base_uri": "https://localhost:8080/",
          "height": 379
        },
        "outputId": "47f82014-bc59-459f-b19e-19c98772956c"
      },
      "source": [
        "f,ax = plt.subplots(figsize=(18, 6))\n",
        "sns.heatmap(new_df.corr(), annot=True, linewidths=.5, fmt= '.1f',ax=ax)\n",
        "plt.show()"
      ],
      "execution_count": 4,
      "outputs": [
        {
          "output_type": "display_data",
          "data": {
            "image/png": "[encoded data removed]",
            "text/plain": [
              "<Figure size 1296x432 with 2 Axes>"
            ]
          },
          "metadata": {
            "tags": [],
            "needs_background": "light"
          }
        }
      ]
    },
    {
      "cell_type": "code",
      "metadata": {
        "id": "voCVX4xxqsHr",
        "colab_type": "code",
        "colab": {
          "base_uri": "https://localhost:8080/",
          "height": 195
        },
        "outputId": "f0c7c0d5-0c8b-458d-e640-aad81f2d168d"
      },
      "source": [
        "new_df.drop(['High', 'Low', 'Weighted_Price'], inplace=True, axis=1)\n",
        "new_df.columns = [name.replace('_', '') for name in list(new_df.columns)]\n",
        "new_df.columns = [name.replace('(', '') for name in list(new_df.columns)]\n",
        "new_df.columns = [name.replace(')', '') for name in list(new_df.columns)]\n",
        "new_df.head()"
      ],
      "execution_count": 5,
      "outputs": [
        {
          "output_type": "execute_result",
          "data": {
            "text/html": [
              "<div>\n",
              "<style scoped>\n",
              "    .dataframe tbody tr th:only-of-type {\n",
              "        vertical-align: middle;\n",
              "    }\n",
              "\n",
              "    .dataframe tbody tr th {\n",
              "        vertical-align: top;\n",
              "    }\n",
              "\n",
              "    .dataframe thead th {\n",
              "        text-align: right;\n",
              "    }\n",
              "</style>\n",
              "<table border=\"1\" class=\"dataframe\">\n",
              "  <thead>\n",
              "    <tr style=\"text-align: right;\">\n",
              "      <th></th>\n",
              "      <th>Timestamp</th>\n",
              "      <th>VolumeBTC</th>\n",
              "      <th>VolumeCurrency</th>\n",
              "      <th>Close</th>\n",
              "      <th>Open</th>\n",
              "    </tr>\n",
              "  </thead>\n",
              "  <tbody>\n",
              "    <tr>\n",
              "      <th>0</th>\n",
              "      <td>2017-01-01 00:00:00</td>\n",
              "      <td>102.484806</td>\n",
              "      <td>99027.385808</td>\n",
              "      <td>966.60</td>\n",
              "      <td>966.34</td>\n",
              "    </tr>\n",
              "    <tr>\n",
              "      <th>1</th>\n",
              "      <td>2017-01-01 01:00:00</td>\n",
              "      <td>149.025554</td>\n",
              "      <td>143716.718251</td>\n",
              "      <td>963.87</td>\n",
              "      <td>966.60</td>\n",
              "    </tr>\n",
              "    <tr>\n",
              "      <th>2</th>\n",
              "      <td>2017-01-01 02:00:00</td>\n",
              "      <td>94.267396</td>\n",
              "      <td>90901.736168</td>\n",
              "      <td>963.97</td>\n",
              "      <td>964.35</td>\n",
              "    </tr>\n",
              "    <tr>\n",
              "      <th>3</th>\n",
              "      <td>2017-01-01 03:00:00</td>\n",
              "      <td>77.619667</td>\n",
              "      <td>74736.649237</td>\n",
              "      <td>962.83</td>\n",
              "      <td>963.97</td>\n",
              "    </tr>\n",
              "    <tr>\n",
              "      <th>4</th>\n",
              "      <td>2017-01-01 04:00:00</td>\n",
              "      <td>46.810220</td>\n",
              "      <td>45054.655498</td>\n",
              "      <td>963.46</td>\n",
              "      <td>960.61</td>\n",
              "    </tr>\n",
              "  </tbody>\n",
              "</table>\n",
              "</div>"
            ],
            "text/plain": [
              "             Timestamp   VolumeBTC  VolumeCurrency   Close    Open\n",
              "0  2017-01-01 00:00:00  102.484806    99027.385808  966.60  966.34\n",
              "1  2017-01-01 01:00:00  149.025554   143716.718251  963.87  966.60\n",
              "2  2017-01-01 02:00:00   94.267396    90901.736168  963.97  964.35\n",
              "3  2017-01-01 03:00:00   77.619667    74736.649237  962.83  963.97\n",
              "4  2017-01-01 04:00:00   46.810220    45054.655498  963.46  960.61"
            ]
          },
          "metadata": {
            "tags": []
          },
          "execution_count": 5
        }
      ]
    },
    {
      "cell_type": "code",
      "metadata": {
        "id": "lw1V6kmzBzbA",
        "colab_type": "code",
        "colab": {
          "base_uri": "https://localhost:8080/",
          "height": 34
        },
        "outputId": "54e91d0c-0ad6-4620-f9af-d9acf2c92722"
      },
      "source": [
        "new_df.shape"
      ],
      "execution_count": 6,
      "outputs": [
        {
          "output_type": "execute_result",
          "data": {
            "text/plain": [
              "(28969, 5)"
            ]
          },
          "metadata": {
            "tags": []
          },
          "execution_count": 6
        }
      ]
    },
    {
      "cell_type": "code",
      "metadata": {
        "id": "78MU84KIBAWX",
        "colab_type": "code",
        "colab": {}
      },
      "source": [
        "# Data Loader Parameters\n",
        "BATCH_SIZE = 32\n",
        "BUFFER_SIZE = 10000\n",
        "# TRAIN_SPLIT = int(len(new_df) * 0.8)\n",
        "TRAIN_SPLIT = 28921\n",
        "# LSTM Parameters\n",
        "EVALUATION_INTERVAL = 200\n",
        "EPOCHS = 20\n",
        "PATIENCE = 5\n",
        "\n",
        "# Reproducibility\n",
        "SEED = 13\n",
        "tf.random.set_seed(SEED)"
      ],
      "execution_count": 7,
      "outputs": []
    },
    {
      "cell_type": "code",
      "metadata": {
        "id": "4rWIcJJ38Po8",
        "colab_type": "code",
        "colab": {}
      },
      "source": [
        "def univariate_data(dataset, start_index, end_index, history_size, target_size):\n",
        "    data = []\n",
        "    labels = []\n",
        "\n",
        "    start_index = start_index + history_size\n",
        "    if end_index is None:\n",
        "        end_index = len(dataset) - target_size\n",
        "\n",
        "    for i in range(start_index, end_index):\n",
        "        # this create range of 24 from i to i + 24\n",
        "        indices = range(i-history_size, i)\n",
        "        # Reshape data from (history_size,) to (history_size, 1)\n",
        "        data.append(np.reshape(dataset[indices], (history_size, 1)))\n",
        "        labels.append(dataset[i+target_size])\n",
        "        \n",
        "    return np.array(data), np.array(labels)"
      ],
      "execution_count": 8,
      "outputs": []
    },
    {
      "cell_type": "markdown",
      "metadata": {
        "id": "rHlmAk8s2AAX",
        "colab_type": "text"
      },
      "source": [
        "Getting values from column we want to predict"
      ]
    },
    {
      "cell_type": "code",
      "metadata": {
        "id": "CfvxZnA21-NL",
        "colab_type": "code",
        "colab": {
          "base_uri": "https://localhost:8080/",
          "height": 134
        },
        "outputId": "c406be6c-9eb0-4a4e-96de-12391cf2f885"
      },
      "source": [
        "values_data = new_df['Close']\n",
        "values_data.index = new_df['Timestamp']\n",
        "values_data.head()"
      ],
      "execution_count": 9,
      "outputs": [
        {
          "output_type": "execute_result",
          "data": {
            "text/plain": [
              "Timestamp\n",
              "2017-01-01 00:00:00    966.60\n",
              "2017-01-01 01:00:00    963.87\n",
              "2017-01-01 02:00:00    963.97\n",
              "2017-01-01 03:00:00    962.83\n",
              "2017-01-01 04:00:00    963.46\n",
              "Name: Close, dtype: float64"
            ]
          },
          "metadata": {
            "tags": []
          },
          "execution_count": 9
        }
      ]
    },
    {
      "cell_type": "code",
      "metadata": {
        "id": "ATOiD4-X2bYX",
        "colab_type": "code",
        "colab": {
          "base_uri": "https://localhost:8080/",
          "height": 309
        },
        "outputId": "f989561b-8384-4e7e-af23-716f11fb45f4"
      },
      "source": [
        "values_data.plot(subplots=True)\n",
        "plt.show()\n",
        "values_data = values_data.values"
      ],
      "execution_count": 10,
      "outputs": [
        {
          "output_type": "display_data",
          "data": {
            "image/png": "[encoded data removed]",
            "text/plain": [
              "<Figure size 432x288 with 1 Axes>"
            ]
          },
          "metadata": {
            "tags": [],
            "needs_background": "light"
          }
        }
      ]
    },
    {
      "cell_type": "markdown",
      "metadata": {
        "id": "P6uG5NpwzVUx",
        "colab_type": "text"
      },
      "source": [
        "The mean and standard deviation should only be computed using the training data."
      ]
    },
    {
      "cell_type": "code",
      "metadata": {
        "id": "e7lchR4aBEkp",
        "colab_type": "code",
        "colab": {}
      },
      "source": [
        "values_mean = values_data[:int(TRAIN_SPLIT)].mean()\n",
        "values_std = values_data[:int(TRAIN_SPLIT)].std()"
      ],
      "execution_count": 11,
      "outputs": []
    },
    {
      "cell_type": "markdown",
      "metadata": {
        "id": "lMtug_dTzYuz",
        "colab_type": "text"
      },
      "source": [
        "Normalize Training data"
      ]
    },
    {
      "cell_type": "code",
      "metadata": {
        "id": "4ryuiXI4B8LI",
        "colab_type": "code",
        "colab": {}
      },
      "source": [
        "uni_data = (values_data - values_mean) / values_std"
      ],
      "execution_count": 12,
      "outputs": []
    },
    {
      "cell_type": "markdown",
      "metadata": {
        "id": "fo2ARI220bp0",
        "colab_type": "text"
      },
      "source": [
        "Let's now create the data for the univariate model. For part 1, the model will be given the last 24 recorded temperature observations, and needs to learn to predict the temperature at the next time step."
      ]
    },
    {
      "cell_type": "code",
      "metadata": {
        "id": "YUmXSCXAClBZ",
        "colab_type": "code",
        "colab": {}
      },
      "source": [
        "univariate_past_history = 24\n",
        "univariate_future_target = 0\n",
        "\n",
        "x_train_uni, y_train_uni = univariate_data(dataset=uni_data,\n",
        "                                           start_index=0,\n",
        "                                           end_index=TRAIN_SPLIT,\n",
        "                                           history_size=univariate_past_history,\n",
        "                                           target_size=univariate_future_target)\n",
        "\n",
        "x_val_uni, y_val_uni = univariate_data(dataset=uni_data,\n",
        "                                       start_index=TRAIN_SPLIT,\n",
        "                                       end_index=None,\n",
        "                                       history_size=univariate_past_history,\n",
        "                                       target_size=univariate_future_target)"
      ],
      "execution_count": 13,
      "outputs": []
    },
    {
      "cell_type": "code",
      "metadata": {
        "id": "o3cN2KjJ03l4",
        "colab_type": "code",
        "colab": {
          "base_uri": "https://localhost:8080/",
          "height": 134
        },
        "outputId": "afeee50b-c211-423e-cd29-40ef06baa815"
      },
      "source": [
        "print(\"In:\")\n",
        "print(uni_data.shape)\n",
        "print(uni_data[:5])\n",
        "\n",
        "print(\"\\nOut\")\n",
        "print(x_train_uni.shape)\n",
        "\n",
        "\n",
        "print(x_train_uni.shape[0] / uni_data.shape[0])"
      ],
      "execution_count": 14,
      "outputs": [
        {
          "output_type": "stream",
          "text": [
            "In:\n",
            "(28969,)\n",
            "[-1.61498621 -1.61579224 -1.61576271 -1.61609929 -1.61591329]\n",
            "\n",
            "Out\n",
            "(28897, 24, 1)\n",
            "0.9975145845559046\n"
          ],
          "name": "stdout"
        }
      ]
    },
    {
      "cell_type": "markdown",
      "metadata": {
        "id": "aI4JZFe14gPc",
        "colab_type": "text"
      },
      "source": [
        "Revisamos shape de X y de Y"
      ]
    },
    {
      "cell_type": "code",
      "metadata": {
        "id": "P0wtXUJI3ApS",
        "colab_type": "code",
        "colab": {
          "base_uri": "https://localhost:8080/",
          "height": 487
        },
        "outputId": "4caf1bbe-a90d-4393-e57c-d6fcd228eb49"
      },
      "source": [
        "print ('Single window of past history. Shape: {}'.format(x_train_uni[0].shape))\n",
        "print (x_train_uni[0])\n",
        "print ('\\n Target temperature to predict. Shape: {}'.format(y_train_uni[0].shape))\n",
        "print (y_train_uni[0])"
      ],
      "execution_count": 15,
      "outputs": [
        {
          "output_type": "stream",
          "text": [
            "Single window of past history. Shape: (24, 1)\n",
            "[[-1.61498621]\n",
            " [-1.61579224]\n",
            " [-1.61576271]\n",
            " [-1.61609929]\n",
            " [-1.61591329]\n",
            " [-1.61575385]\n",
            " [-1.61552946]\n",
            " [-1.61547042]\n",
            " [-1.61546451]\n",
            " [-1.61528146]\n",
            " [-1.61280727]\n",
            " [-1.61252974]\n",
            " [-1.61324424]\n",
            " [-1.6127748 ]\n",
            " [-1.61225516]\n",
            " [-1.61200124]\n",
            " [-1.6071946 ]\n",
            " [-1.60783824]\n",
            " [-1.60624094]\n",
            " [-1.60600179]\n",
            " [-1.60513967]\n",
            " [-1.60424211]\n",
            " [-1.60438678]\n",
            " [-1.60578921]]\n",
            "\n",
            " Target temperature to predict. Shape: ()\n",
            "-1.6058069284313878\n"
          ],
          "name": "stdout"
        }
      ]
    },
    {
      "cell_type": "code",
      "metadata": {
        "id": "D8WLPkhm3GI4",
        "colab_type": "code",
        "colab": {}
      },
      "source": [
        "def create_time_steps(length):\n",
        "    return list(range(-length, 0))"
      ],
      "execution_count": 16,
      "outputs": []
    },
    {
      "cell_type": "code",
      "metadata": {
        "id": "fH3l997d4rrt",
        "colab_type": "code",
        "colab": {}
      },
      "source": [
        "def show_plot(plot_data, delta, title):\n",
        "    labels = ['History', 'True Future', 'Model Prediction']\n",
        "    marker = ['.-', 'rx', 'go']\n",
        "    time_steps = create_time_steps(plot_data[0].shape[0])\n",
        "    if delta:\n",
        "        future = delta\n",
        "    else:\n",
        "        future = 0\n",
        "\n",
        "    plt.title(title)\n",
        "    for i, x in enumerate(plot_data):\n",
        "        if i:\n",
        "            plt.plot(future, plot_data[i], marker[i], markersize=10,\n",
        "                   label=labels[i])\n",
        "        else:\n",
        "            plt.plot(time_steps, plot_data[i].flatten(), marker[i], label=labels[i])\n",
        "        plt.legend()\n",
        "        plt.xlim([time_steps[0], (future+5)*2])\n",
        "        plt.xlabel('Time-Step')\n",
        "    \n",
        "    return plt"
      ],
      "execution_count": 17,
      "outputs": []
    },
    {
      "cell_type": "code",
      "metadata": {
        "id": "HgTOxaeF4wru",
        "colab_type": "code",
        "colab": {
          "base_uri": "https://localhost:8080/",
          "height": 312
        },
        "outputId": "ad15aab8-4e6b-4ef4-c867-384a8d7c55f2"
      },
      "source": [
        "show_plot([x_train_uni[0], y_train_uni[0]], 0, 'Sample Example')"
      ],
      "execution_count": 18,
      "outputs": [
        {
          "output_type": "execute_result",
          "data": {
            "text/plain": [
              "<module 'matplotlib.pyplot' from '/usr/local/lib/python3.6/dist-packages/matplotlib/pyplot.py'>"
            ]
          },
          "metadata": {
            "tags": []
          },
          "execution_count": 18
        },
        {
          "output_type": "display_data",
          "data": {
            "image/png": "[encoded data removed]",
            "text/plain": [
              "<Figure size 432x288 with 1 Axes>"
            ]
          },
          "metadata": {
            "tags": [],
            "needs_background": "light"
          }
        }
      ]
    },
    {
      "cell_type": "markdown",
      "metadata": {
        "id": "qsgHe8xR5I42",
        "colab_type": "text"
      },
      "source": [
        "*Baseline*<br>\n",
        "Before proceeding to train a model, let's first set a simple baseline. Given an input point, the baseline method looks at all the history and predicts the next point to be the average of the last 24 observations."
      ]
    },
    {
      "cell_type": "code",
      "metadata": {
        "id": "1bYw1brs4y1w",
        "colab_type": "code",
        "colab": {}
      },
      "source": [
        "def baseline(history):\n",
        "    return np.mean(history)"
      ],
      "execution_count": 19,
      "outputs": []
    },
    {
      "cell_type": "code",
      "metadata": {
        "id": "BMZrrfWF5NAe",
        "colab_type": "code",
        "colab": {
          "base_uri": "https://localhost:8080/",
          "height": 312
        },
        "outputId": "a16b4d57-447a-44ea-ba7a-f6f11446194e"
      },
      "source": [
        "show_plot([x_train_uni[0], y_train_uni[0], baseline(x_train_uni[0])], 0,\n",
        "           'Baseline Prediction Example')"
      ],
      "execution_count": 20,
      "outputs": [
        {
          "output_type": "execute_result",
          "data": {
            "text/plain": [
              "<module 'matplotlib.pyplot' from '/usr/local/lib/python3.6/dist-packages/matplotlib/pyplot.py'>"
            ]
          },
          "metadata": {
            "tags": []
          },
          "execution_count": 20
        },
        {
          "output_type": "display_data",
          "data": {
            "image/png": "[encoded data removed]",
            "text/plain": [
              "<Figure size 432x288 with 1 Axes>"
            ]
          },
          "metadata": {
            "tags": [],
            "needs_background": "light"
          }
        }
      ]
    },
    {
      "cell_type": "markdown",
      "metadata": {
        "id": "cfo6aihi5WE0",
        "colab_type": "text"
      },
      "source": [
        "*Recurrent neural network*<br>\n",
        "A Recurrent Neural Network (RNN) is a type of neural network well-suited to time series data. RNNs process a time series step-by-step, maintaining an internal state summarizing the information they've seen so far. For more details, read the RNN tutorial. In this tutorial, you will use a specialized RNN layer called Long Short Term Memory (LSTM)\n",
        "\n",
        "Let's now use tf.data to shuffle, batch, and cache the dataset."
      ]
    },
    {
      "cell_type": "code",
      "metadata": {
        "id": "rlWAA1px5O2s",
        "colab_type": "code",
        "colab": {}
      },
      "source": [
        "train_univariate = tf.data.Dataset.from_tensor_slices((x_train_uni, y_train_uni))\n",
        "train_univariate = train_univariate.cache().shuffle(BUFFER_SIZE).batch(BATCH_SIZE).repeat()\n",
        "\n",
        "val_univariate = tf.data.Dataset.from_tensor_slices((x_val_uni, y_val_uni))\n",
        "val_univariate = val_univariate.batch(BATCH_SIZE).repeat()"
      ],
      "execution_count": 21,
      "outputs": []
    },
    {
      "cell_type": "code",
      "metadata": {
        "id": "D8N6dbgG5m-6",
        "colab_type": "code",
        "colab": {
          "base_uri": "https://localhost:8080/",
          "height": 34
        },
        "outputId": "35fbe682-aee7-4a25-c325-793bd426191f"
      },
      "source": [
        "x_train_uni.shape"
      ],
      "execution_count": 22,
      "outputs": [
        {
          "output_type": "execute_result",
          "data": {
            "text/plain": [
              "(28897, 24, 1)"
            ]
          },
          "metadata": {
            "tags": []
          },
          "execution_count": 22
        }
      ]
    },
    {
      "cell_type": "code",
      "metadata": {
        "id": "JbmwOiOl5ppa",
        "colab_type": "code",
        "colab": {}
      },
      "source": [
        "simple_lstm_model = tf.keras.models.Sequential([\n",
        "    tf.keras.layers.LSTM(24, input_shape=x_train_uni.shape[-2:]),\n",
        "    tf.keras.layers.Dense(1)\n",
        "])\n",
        "\n",
        "simple_lstm_model.compile(optimizer='adam', loss='mse')"
      ],
      "execution_count": 23,
      "outputs": []
    },
    {
      "cell_type": "markdown",
      "metadata": {
        "id": "TOBrWxwv6xEO",
        "colab_type": "text"
      },
      "source": [
        "Let's make a sample prediction, to check the output of the model."
      ]
    },
    {
      "cell_type": "code",
      "metadata": {
        "id": "5ziNpXzY6tWJ",
        "colab_type": "code",
        "colab": {
          "base_uri": "https://localhost:8080/",
          "height": 34
        },
        "outputId": "41b08475-4f64-4607-b3fe-4ed002d83513"
      },
      "source": [
        "for x, y in val_univariate.take(1):\n",
        "    print(simple_lstm_model.predict(x).shape)"
      ],
      "execution_count": 24,
      "outputs": [
        {
          "output_type": "stream",
          "text": [
            "(24, 1)\n"
          ],
          "name": "stdout"
        }
      ]
    },
    {
      "cell_type": "markdown",
      "metadata": {
        "id": "8-TUady-6129",
        "colab_type": "text"
      },
      "source": [
        "Let's train the model now. Due to the large size of the dataset, in the interest of saving time, each epoch will only run for 200 steps, instead of the complete training data as normally done."
      ]
    },
    {
      "cell_type": "code",
      "metadata": {
        "id": "Qdmbe7tB6zZR",
        "colab_type": "code",
        "colab": {
          "base_uri": "https://localhost:8080/",
          "height": 202
        },
        "outputId": "c097688e-a553-45eb-f184-a7e79a98a8f6"
      },
      "source": [
        "early_stopping = tf.keras.callbacks.EarlyStopping(monitor='val_loss', patience = 3, restore_best_weights=True)\n",
        "simple_lstm_model.fit(train_univariate,\n",
        "                      epochs=EPOCHS,\n",
        "                      steps_per_epoch=EVALUATION_INTERVAL,\n",
        "                      validation_data=val_univariate,\n",
        "                      callbacks=[early_stopping],\n",
        "                      validation_steps=50)"
      ],
      "execution_count": 25,
      "outputs": [
        {
          "output_type": "stream",
          "text": [
            "Epoch 1/20\n",
            "200/200 [==============================] - 2s 12ms/step - loss: 0.2543 - val_loss: 7.3378e-04\n",
            "Epoch 2/20\n",
            "200/200 [==============================] - 2s 10ms/step - loss: 0.0046 - val_loss: 8.9026e-05\n",
            "Epoch 3/20\n",
            "200/200 [==============================] - 2s 10ms/step - loss: 0.0021 - val_loss: 9.2427e-05\n",
            "Epoch 4/20\n",
            "200/200 [==============================] - 2s 10ms/step - loss: 0.0017 - val_loss: 1.2333e-04\n",
            "Epoch 5/20\n",
            "200/200 [==============================] - 2s 10ms/step - loss: 0.0024 - val_loss: 1.2295e-04\n"
          ],
          "name": "stdout"
        },
        {
          "output_type": "execute_result",
          "data": {
            "text/plain": [
              "<tensorflow.python.keras.callbacks.History at 0x7f955c1c5a58>"
            ]
          },
          "metadata": {
            "tags": []
          },
          "execution_count": 25
        }
      ]
    },
    {
      "cell_type": "code",
      "metadata": {
        "id": "vkJmDtfd6_Qo",
        "colab_type": "code",
        "colab": {
          "base_uri": "https://localhost:8080/",
          "height": 851
        },
        "outputId": "4cb5d782-a8dd-43ff-b972-760b486c9410"
      },
      "source": [
        "for x, y in val_univariate.take(3):\n",
        "    plot = show_plot([x[0].numpy(), y[0].numpy(),\n",
        "                    simple_lstm_model.predict(x)[0]], 0, 'Simple LSTM model')\n",
        "    plot.show()"
      ],
      "execution_count": 26,
      "outputs": [
        {
          "output_type": "display_data",
          "data": {
            "image/png": "[encoded data removed]",
            "text/plain": [
              "<Figure size 432x288 with 1 Axes>"
            ]
          },
          "metadata": {
            "tags": [],
            "needs_background": "light"
          }
        },
        {
          "output_type": "display_data",
          "data": {
            "image/png": "[encoded data removed]",
            "text/plain": [
              "<Figure size 432x288 with 1 Axes>"
            ]
          },
          "metadata": {
            "tags": [],
            "needs_background": "light"
          }
        },
        {
          "output_type": "display_data",
          "data": {
            "image/png": "[encoded data removed]",
            "text/plain": [
              "<Figure size 432x288 with 1 Axes>"
            ]
          },
          "metadata": {
            "tags": [],
            "needs_background": "light"
          }
        }
      ]
    },
    {
      "cell_type": "markdown",
      "metadata": {
        "id": "hTdsQiwJ7fKk",
        "colab_type": "text"
      },
      "source": [
        "This looks better than the baseline. Now that you have seen the basics, let's move on to part two, where you will work with a multivariate time series."
      ]
    },
    {
      "cell_type": "code",
      "metadata": {
        "id": "-mZnlJwk7iDj",
        "colab_type": "code",
        "colab": {}
      },
      "source": [
        "# del simple_lstm_model, val_univariate, train_univariate"
      ],
      "execution_count": 27,
      "outputs": []
    },
    {
      "cell_type": "markdown",
      "metadata": {
        "id": "CphVWU8w7lp6",
        "colab_type": "text"
      },
      "source": [
        "<h1>Forecast a multivariate time series</h1>"
      ]
    },
    {
      "cell_type": "code",
      "metadata": {
        "id": "h1qxKYvP71LS",
        "colab_type": "code",
        "colab": {
          "base_uri": "https://localhost:8080/",
          "height": 195
        },
        "outputId": "8dcbb5e8-85c2-4504-a888-35e956865774"
      },
      "source": [
        "new_df = pd.read_csv(\"data.csv\")\n",
        "new_df.head()"
      ],
      "execution_count": 28,
      "outputs": [
        {
          "output_type": "execute_result",
          "data": {
            "text/html": [
              "<div>\n",
              "<style scoped>\n",
              "    .dataframe tbody tr th:only-of-type {\n",
              "        vertical-align: middle;\n",
              "    }\n",
              "\n",
              "    .dataframe tbody tr th {\n",
              "        vertical-align: top;\n",
              "    }\n",
              "\n",
              "    .dataframe thead th {\n",
              "        text-align: right;\n",
              "    }\n",
              "</style>\n",
              "<table border=\"1\" class=\"dataframe\">\n",
              "  <thead>\n",
              "    <tr style=\"text-align: right;\">\n",
              "      <th></th>\n",
              "      <th>Timestamp</th>\n",
              "      <th>Low</th>\n",
              "      <th>Volume_(BTC)</th>\n",
              "      <th>Volume_(Currency)</th>\n",
              "      <th>Weighted_Price</th>\n",
              "      <th>High</th>\n",
              "      <th>Close</th>\n",
              "      <th>Open</th>\n",
              "    </tr>\n",
              "  </thead>\n",
              "  <tbody>\n",
              "    <tr>\n",
              "      <th>0</th>\n",
              "      <td>2017-01-01 00:00:00</td>\n",
              "      <td>964.60</td>\n",
              "      <td>102.484806</td>\n",
              "      <td>99027.385808</td>\n",
              "      <td>57003.105500</td>\n",
              "      <td>966.99</td>\n",
              "      <td>966.60</td>\n",
              "      <td>966.34</td>\n",
              "    </tr>\n",
              "    <tr>\n",
              "      <th>1</th>\n",
              "      <td>2017-01-01 01:00:00</td>\n",
              "      <td>962.54</td>\n",
              "      <td>149.025554</td>\n",
              "      <td>143716.718251</td>\n",
              "      <td>57850.650345</td>\n",
              "      <td>966.60</td>\n",
              "      <td>963.87</td>\n",
              "      <td>966.60</td>\n",
              "    </tr>\n",
              "    <tr>\n",
              "      <th>2</th>\n",
              "      <td>2017-01-01 02:00:00</td>\n",
              "      <td>961.99</td>\n",
              "      <td>94.267396</td>\n",
              "      <td>90901.736168</td>\n",
              "      <td>57845.805546</td>\n",
              "      <td>965.75</td>\n",
              "      <td>963.97</td>\n",
              "      <td>964.35</td>\n",
              "    </tr>\n",
              "    <tr>\n",
              "      <th>3</th>\n",
              "      <td>2017-01-01 03:00:00</td>\n",
              "      <td>960.53</td>\n",
              "      <td>77.619667</td>\n",
              "      <td>74736.649237</td>\n",
              "      <td>57834.205077</td>\n",
              "      <td>964.71</td>\n",
              "      <td>962.83</td>\n",
              "      <td>963.97</td>\n",
              "    </tr>\n",
              "    <tr>\n",
              "      <th>4</th>\n",
              "      <td>2017-01-01 04:00:00</td>\n",
              "      <td>960.60</td>\n",
              "      <td>46.810220</td>\n",
              "      <td>45054.655498</td>\n",
              "      <td>57772.256943</td>\n",
              "      <td>963.64</td>\n",
              "      <td>963.46</td>\n",
              "      <td>960.61</td>\n",
              "    </tr>\n",
              "  </tbody>\n",
              "</table>\n",
              "</div>"
            ],
            "text/plain": [
              "             Timestamp     Low  Volume_(BTC)  ...    High   Close    Open\n",
              "0  2017-01-01 00:00:00  964.60    102.484806  ...  966.99  966.60  966.34\n",
              "1  2017-01-01 01:00:00  962.54    149.025554  ...  966.60  963.87  966.60\n",
              "2  2017-01-01 02:00:00  961.99     94.267396  ...  965.75  963.97  964.35\n",
              "3  2017-01-01 03:00:00  960.53     77.619667  ...  964.71  962.83  963.97\n",
              "4  2017-01-01 04:00:00  960.60     46.810220  ...  963.64  963.46  960.61\n",
              "\n",
              "[5 rows x 8 columns]"
            ]
          },
          "metadata": {
            "tags": []
          },
          "execution_count": 28
        }
      ]
    },
    {
      "cell_type": "code",
      "metadata": {
        "id": "2BQashdK7ilU",
        "colab_type": "code",
        "colab": {}
      },
      "source": [
        "features_considered = ['Open', 'Weighted_Price', 'Close']"
      ],
      "execution_count": 29,
      "outputs": []
    },
    {
      "cell_type": "code",
      "metadata": {
        "id": "SgZ1D1fW8Dq4",
        "colab_type": "code",
        "colab": {
          "base_uri": "https://localhost:8080/",
          "height": 225
        },
        "outputId": "0cd2a42b-9611-4a71-b353-f2ce41471b83"
      },
      "source": [
        "features = new_df[features_considered]\n",
        "features.index = new_df['Timestamp']\n",
        "features.head()"
      ],
      "execution_count": 30,
      "outputs": [
        {
          "output_type": "execute_result",
          "data": {
            "text/html": [
              "<div>\n",
              "<style scoped>\n",
              "    .dataframe tbody tr th:only-of-type {\n",
              "        vertical-align: middle;\n",
              "    }\n",
              "\n",
              "    .dataframe tbody tr th {\n",
              "        vertical-align: top;\n",
              "    }\n",
              "\n",
              "    .dataframe thead th {\n",
              "        text-align: right;\n",
              "    }\n",
              "</style>\n",
              "<table border=\"1\" class=\"dataframe\">\n",
              "  <thead>\n",
              "    <tr style=\"text-align: right;\">\n",
              "      <th></th>\n",
              "      <th>Open</th>\n",
              "      <th>Weighted_Price</th>\n",
              "      <th>Close</th>\n",
              "    </tr>\n",
              "    <tr>\n",
              "      <th>Timestamp</th>\n",
              "      <th></th>\n",
              "      <th></th>\n",
              "      <th></th>\n",
              "    </tr>\n",
              "  </thead>\n",
              "  <tbody>\n",
              "    <tr>\n",
              "      <th>2017-01-01 00:00:00</th>\n",
              "      <td>966.34</td>\n",
              "      <td>57003.105500</td>\n",
              "      <td>966.60</td>\n",
              "    </tr>\n",
              "    <tr>\n",
              "      <th>2017-01-01 01:00:00</th>\n",
              "      <td>966.60</td>\n",
              "      <td>57850.650345</td>\n",
              "      <td>963.87</td>\n",
              "    </tr>\n",
              "    <tr>\n",
              "      <th>2017-01-01 02:00:00</th>\n",
              "      <td>964.35</td>\n",
              "      <td>57845.805546</td>\n",
              "      <td>963.97</td>\n",
              "    </tr>\n",
              "    <tr>\n",
              "      <th>2017-01-01 03:00:00</th>\n",
              "      <td>963.97</td>\n",
              "      <td>57834.205077</td>\n",
              "      <td>962.83</td>\n",
              "    </tr>\n",
              "    <tr>\n",
              "      <th>2017-01-01 04:00:00</th>\n",
              "      <td>960.61</td>\n",
              "      <td>57772.256943</td>\n",
              "      <td>963.46</td>\n",
              "    </tr>\n",
              "  </tbody>\n",
              "</table>\n",
              "</div>"
            ],
            "text/plain": [
              "                       Open  Weighted_Price   Close\n",
              "Timestamp                                          \n",
              "2017-01-01 00:00:00  966.34    57003.105500  966.60\n",
              "2017-01-01 01:00:00  966.60    57850.650345  963.87\n",
              "2017-01-01 02:00:00  964.35    57845.805546  963.97\n",
              "2017-01-01 03:00:00  963.97    57834.205077  962.83\n",
              "2017-01-01 04:00:00  960.61    57772.256943  963.46"
            ]
          },
          "metadata": {
            "tags": []
          },
          "execution_count": 30
        }
      ]
    },
    {
      "cell_type": "code",
      "metadata": {
        "id": "LAfHqtVm894Y",
        "colab_type": "code",
        "colab": {
          "base_uri": "https://localhost:8080/",
          "height": 379
        },
        "outputId": "2b2b463f-079e-4bc8-f9a0-187bd0908e4e"
      },
      "source": [
        "features.plot(subplots=True)"
      ],
      "execution_count": 31,
      "outputs": [
        {
          "output_type": "execute_result",
          "data": {
            "text/plain": [
              "array([<matplotlib.axes._subplots.AxesSubplot object at 0x7f9551736be0>,\n",
              "       <matplotlib.axes._subplots.AxesSubplot object at 0x7f95516d58d0>,\n",
              "       <matplotlib.axes._subplots.AxesSubplot object at 0x7f95514bd898>],\n",
              "      dtype=object)"
            ]
          },
          "metadata": {
            "tags": []
          },
          "execution_count": 31
        },
        {
          "output_type": "display_data",
          "data": {
            "image/png": "[encoded data removed]",
            "text/plain": [
              "<Figure size 432x288 with 3 Axes>"
            ]
          },
          "metadata": {
            "tags": [],
            "needs_background": "light"
          }
        }
      ]
    },
    {
      "cell_type": "code",
      "metadata": {
        "id": "Ll5eADyg9Y-e",
        "colab_type": "code",
        "colab": {}
      },
      "source": [
        "dataset = features.values\n",
        "data_mean = dataset[:TRAIN_SPLIT].mean(axis=0)\n",
        "data_std = dataset[:TRAIN_SPLIT].std(axis=0)\n",
        "dataset = (dataset-data_mean)/data_std"
      ],
      "execution_count": 32,
      "outputs": []
    },
    {
      "cell_type": "code",
      "metadata": {
        "id": "pyis2n-i9dPJ",
        "colab_type": "code",
        "colab": {
          "base_uri": "https://localhost:8080/",
          "height": 225
        },
        "outputId": "cbcc3e67-0fdb-439e-f02b-d9f4052fe77e"
      },
      "source": [
        "display(pd.DataFrame(dataset, columns = features.columns, index= features.index).head())"
      ],
      "execution_count": 33,
      "outputs": [
        {
          "output_type": "display_data",
          "data": {
            "text/html": [
              "<div>\n",
              "<style scoped>\n",
              "    .dataframe tbody tr th:only-of-type {\n",
              "        vertical-align: middle;\n",
              "    }\n",
              "\n",
              "    .dataframe tbody tr th {\n",
              "        vertical-align: top;\n",
              "    }\n",
              "\n",
              "    .dataframe thead th {\n",
              "        text-align: right;\n",
              "    }\n",
              "</style>\n",
              "<table border=\"1\" class=\"dataframe\">\n",
              "  <thead>\n",
              "    <tr style=\"text-align: right;\">\n",
              "      <th></th>\n",
              "      <th>Open</th>\n",
              "      <th>Weighted_Price</th>\n",
              "      <th>Close</th>\n",
              "    </tr>\n",
              "    <tr>\n",
              "      <th>Timestamp</th>\n",
              "      <th></th>\n",
              "      <th></th>\n",
              "      <th></th>\n",
              "    </tr>\n",
              "  </thead>\n",
              "  <tbody>\n",
              "    <tr>\n",
              "      <th>2017-01-01 00:00:00</th>\n",
              "      <td>-1.614863</td>\n",
              "      <td>-1.619847</td>\n",
              "      <td>-1.614986</td>\n",
              "    </tr>\n",
              "    <tr>\n",
              "      <th>2017-01-01 01:00:00</th>\n",
              "      <td>-1.614787</td>\n",
              "      <td>-1.615676</td>\n",
              "      <td>-1.615792</td>\n",
              "    </tr>\n",
              "    <tr>\n",
              "      <th>2017-01-01 02:00:00</th>\n",
              "      <td>-1.615451</td>\n",
              "      <td>-1.615700</td>\n",
              "      <td>-1.615763</td>\n",
              "    </tr>\n",
              "    <tr>\n",
              "      <th>2017-01-01 03:00:00</th>\n",
              "      <td>-1.615563</td>\n",
              "      <td>-1.615757</td>\n",
              "      <td>-1.616099</td>\n",
              "    </tr>\n",
              "    <tr>\n",
              "      <th>2017-01-01 04:00:00</th>\n",
              "      <td>-1.616555</td>\n",
              "      <td>-1.616062</td>\n",
              "      <td>-1.615913</td>\n",
              "    </tr>\n",
              "  </tbody>\n",
              "</table>\n",
              "</div>"
            ],
            "text/plain": [
              "                         Open  Weighted_Price     Close\n",
              "Timestamp                                              \n",
              "2017-01-01 00:00:00 -1.614863       -1.619847 -1.614986\n",
              "2017-01-01 01:00:00 -1.614787       -1.615676 -1.615792\n",
              "2017-01-01 02:00:00 -1.615451       -1.615700 -1.615763\n",
              "2017-01-01 03:00:00 -1.615563       -1.615757 -1.616099\n",
              "2017-01-01 04:00:00 -1.616555       -1.616062 -1.615913"
            ]
          },
          "metadata": {
            "tags": []
          }
        }
      ]
    },
    {
      "cell_type": "code",
      "metadata": {
        "id": "QVGC98WE9fJ0",
        "colab_type": "code",
        "colab": {}
      },
      "source": [
        "def multivariate_data(dataset, target, start_index, end_index, history_size,\n",
        "                      target_size, step, single_step=False):\n",
        "    data = []\n",
        "    labels = []\n",
        "\n",
        "    start_index = start_index + history_size\n",
        "    if end_index is None:\n",
        "        end_index = len(dataset) - target_size\n",
        "\n",
        "    for i in range(start_index, end_index):\n",
        "        indices = range(i-history_size, i, step)\n",
        "        data.append(dataset[indices])\n",
        "\n",
        "        if single_step:\n",
        "            labels.append(target[i+target_size])\n",
        "        else:\n",
        "            labels.append(target[i:i+target_size])\n",
        "\n",
        "    return np.array(data), np.array(labels)"
      ],
      "execution_count": 34,
      "outputs": []
    },
    {
      "cell_type": "code",
      "metadata": {
        "id": "Q2kYz_Qw9iir",
        "colab_type": "code",
        "colab": {}
      },
      "source": [
        "past_history = 24\n",
        "future_target = 0\n",
        "STEP = 1\n",
        "\n",
        "x_train_single, y_train_single = multivariate_data(dataset, dataset[:, 1], 0,\n",
        "                                                   TRAIN_SPLIT, past_history,\n",
        "                                                   future_target, STEP,\n",
        "                                                   single_step=True)\n",
        "x_val_single, y_val_single = multivariate_data(dataset, dataset[:, 1],\n",
        "                                               TRAIN_SPLIT, None, past_history,\n",
        "                                               future_target, STEP,\n",
        "                                               single_step=True)"
      ],
      "execution_count": 35,
      "outputs": []
    },
    {
      "cell_type": "code",
      "metadata": {
        "id": "-jEGaxwn9qWB",
        "colab_type": "code",
        "colab": {
          "base_uri": "https://localhost:8080/",
          "height": 67
        },
        "outputId": "7c229434-3767-4fe2-fdfd-60de67ac12e2"
      },
      "source": [
        "print(x_train_single.shape)\n",
        "print ('Single window of past history : {}'.format(x_train_single[0].shape))\n",
        "print(x_train_single.shape[-2:])"
      ],
      "execution_count": 36,
      "outputs": [
        {
          "output_type": "stream",
          "text": [
            "(28897, 24, 3)\n",
            "Single window of past history : (24, 3)\n",
            "(24, 3)\n"
          ],
          "name": "stdout"
        }
      ]
    },
    {
      "cell_type": "code",
      "metadata": {
        "id": "Qh0XzN7t9sbM",
        "colab_type": "code",
        "colab": {}
      },
      "source": [
        "train_data_single = tf.data.Dataset.from_tensor_slices((x_train_single, y_train_single))\n",
        "train_data_single = train_data_single.cache().shuffle(BUFFER_SIZE).batch(BATCH_SIZE).repeat()\n",
        "\n",
        "val_data_single = tf.data.Dataset.from_tensor_slices((x_val_single, y_val_single))\n",
        "val_data_single = val_data_single.batch(BATCH_SIZE).repeat()"
      ],
      "execution_count": 37,
      "outputs": []
    },
    {
      "cell_type": "code",
      "metadata": {
        "id": "YELLjcj097u9",
        "colab_type": "code",
        "colab": {}
      },
      "source": [
        "single_step_model = tf.keras.models.Sequential()\n",
        "single_step_model.add(tf.keras.layers.LSTM(24, input_shape=x_train_single.shape[-2:]))\n",
        "single_step_model.add(tf.keras.layers.Dense(units=24, activation='relu'))\n",
        "single_step_model.add(tf.keras.layers.Dropout(0.4))\n",
        "single_step_model.add(tf.keras.layers.Dense(1))\n",
        "\n",
        "single_step_model.compile(optimizer='adam', loss='mse')"
      ],
      "execution_count": 38,
      "outputs": []
    },
    {
      "cell_type": "code",
      "metadata": {
        "id": "Z-55Si-f9-vg",
        "colab_type": "code",
        "colab": {
          "base_uri": "https://localhost:8080/",
          "height": 34
        },
        "outputId": "42152999-9d4b-4be7-ca42-81bb8e1da796"
      },
      "source": [
        "for x, y in val_data_single.take(1):\n",
        "    print(single_step_model.predict(x).shape)"
      ],
      "execution_count": 39,
      "outputs": [
        {
          "output_type": "stream",
          "text": [
            "(24, 1)\n"
          ],
          "name": "stdout"
        }
      ]
    },
    {
      "cell_type": "code",
      "metadata": {
        "id": "2t07pHi--Bg3",
        "colab_type": "code",
        "colab": {
          "base_uri": "https://localhost:8080/",
          "height": 185
        },
        "outputId": "9aa1e91b-94b5-423c-aceb-7fe799da8b37"
      },
      "source": [
        "print(f\"Evaluation Threshold: {EVALUATION_INTERVAL}\",\n",
        "      f\"Epochs: {EPOCHS}\", sep=\"\\n\")\n",
        "early_stopping = tf.keras.callbacks.EarlyStopping(monitor='val_loss', patience = 3, restore_best_weights=True)\n",
        "single_step_history = single_step_model.fit(train_data_single,\n",
        "                                            epochs=EPOCHS,\n",
        "                                            steps_per_epoch=EVALUATION_INTERVAL,\n",
        "                                            validation_data=val_data_single,\n",
        "                                            callbacks=[early_stopping],\n",
        "                                            validation_steps=50)"
      ],
      "execution_count": 40,
      "outputs": [
        {
          "output_type": "stream",
          "text": [
            "Evaluation Threshold: 200\n",
            "Epochs: 20\n",
            "Epoch 1/20\n",
            "200/200 [==============================] - 3s 14ms/step - loss: 0.3293 - val_loss: 0.1665\n",
            "Epoch 2/20\n",
            "200/200 [==============================] - 2s 11ms/step - loss: 0.0728 - val_loss: 0.1670\n",
            "Epoch 3/20\n",
            "200/200 [==============================] - 2s 10ms/step - loss: 0.0652 - val_loss: 0.1699\n",
            "Epoch 4/20\n",
            "200/200 [==============================] - 2s 10ms/step - loss: 0.0477 - val_loss: 0.1690\n"
          ],
          "name": "stdout"
        }
      ]
    },
    {
      "cell_type": "code",
      "metadata": {
        "id": "UhphPA4v-Xf_",
        "colab_type": "code",
        "colab": {
          "base_uri": "https://localhost:8080/",
          "height": 295
        },
        "outputId": "65346834-ac78-4d62-8f75-2b479a63bfbe"
      },
      "source": [
        "for x, y in val_data_single.take(1):\n",
        "    plot = show_plot([x[0][:, 1].numpy(), y[0].numpy(),\n",
        "                    single_step_model.predict(x)[0]],0,\n",
        "                   'Single Step Prediction')\n",
        "    plot.show()"
      ],
      "execution_count": 41,
      "outputs": [
        {
          "output_type": "display_data",
          "data": {
            "image/png": "[encoded data removed]",
            "text/plain": [
              "<Figure size 432x288 with 1 Axes>"
            ]
          },
          "metadata": {
            "tags": [],
            "needs_background": "light"
          }
        }
      ]
    },
    {
      "cell_type": "code",
      "metadata": {
        "id": "yubV9DCOOOum",
        "colab_type": "code",
        "colab": {}
      },
      "source": [
        "past_history = 24\n",
        "future_target = 1\n",
        "STEP = 1\n",
        "x_train_multi, y_train_multi = multivariate_data(dataset, dataset[:, 1], 0,\n",
        "                                                 TRAIN_SPLIT, past_history,\n",
        "                                                 future_target, STEP)\n",
        "x_val_multi, y_val_multi = multivariate_data(dataset, dataset[:, 1],\n",
        "                                             TRAIN_SPLIT, None, past_history,\n",
        "                                             future_target, STEP)"
      ],
      "execution_count": 60,
      "outputs": []
    },
    {
      "cell_type": "code",
      "metadata": {
        "id": "33zuGu9yOKk2",
        "colab_type": "code",
        "colab": {}
      },
      "source": [
        "train_data_multi = tf.data.Dataset.from_tensor_slices((x_train_multi, y_train_multi))\n",
        "train_data_multi = train_data_multi.cache().shuffle(BUFFER_SIZE).batch(BATCH_SIZE).repeat()\n",
        "\n",
        "val_data_multi = tf.data.Dataset.from_tensor_slices((x_val_multi, y_val_multi))\n",
        "val_data_multi = val_data_multi.batch(BATCH_SIZE).repeat()"
      ],
      "execution_count": 61,
      "outputs": []
    },
    {
      "cell_type": "code",
      "metadata": {
        "id": "HOxv-J5qMqKd",
        "colab_type": "code",
        "colab": {}
      },
      "source": [
        "def multi_step_plot(history, true_future, prediction):\n",
        "    plt.figure(figsize=(18, 6))\n",
        "    num_in = create_time_steps(len(history))\n",
        "    num_out = len(true_future)\n",
        "\n",
        "    plt.plot(num_in, np.array(history[:, 1]), label='History')\n",
        "    plt.plot(np.arange(num_out)/STEP, np.array(true_future), 'bo',\n",
        "           label='True Future')\n",
        "    if prediction.any():\n",
        "        plt.plot(np.arange(num_out)/STEP, np.array(prediction), 'ro',\n",
        "                 label='Predicted Future')\n",
        "    plt.legend(loc='upper left')\n",
        "    plt.show()"
      ],
      "execution_count": 62,
      "outputs": []
    },
    {
      "cell_type": "code",
      "metadata": {
        "id": "81NFPvmzOC25",
        "colab_type": "code",
        "colab": {
          "base_uri": "https://localhost:8080/",
          "height": 374
        },
        "outputId": "f9a568f0-c94a-48a7-9aa2-0eb0f515e3dd"
      },
      "source": [
        "for x, y in val_data_multi.take(1):\n",
        "    multi_step_plot(x[0], y[0], single_step_model.predict(x)[-1])"
      ],
      "execution_count": 80,
      "outputs": [
        {
          "output_type": "display_data",
          "data": {
            "image/png": "[encoded data removed]",
            "text/plain": [
              "<Figure size 1296x432 with 1 Axes>"
            ]
          },
          "metadata": {
            "tags": [],
            "needs_background": "light"
          }
        }
      ]
    },
    {
      "cell_type": "code",
      "metadata": {
        "id": "sL3DSXbvQTCH",
        "colab_type": "code",
        "colab": {}
      },
      "source": [
        ""
      ],
      "execution_count": null,
      "outputs": []
    }
  ]
}