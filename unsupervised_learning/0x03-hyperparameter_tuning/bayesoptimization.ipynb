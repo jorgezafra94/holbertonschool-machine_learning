{
  "nbformat": 4,
  "nbformat_minor": 0,
  "metadata": {
    "colab": {
      "name": "bayesoptimization",
      "provenance": []
    },
    "kernelspec": {
      "name": "python3",
      "display_name": "Python 3"
    }
  },
  "cells": [
    {
      "cell_type": "markdown",
      "metadata": {
        "id": "YDAREgX5kOBh",
        "colab_type": "text"
      },
      "source": [
        "Import Modules\n"
      ]
    },
    {
      "cell_type": "code",
      "metadata": {
        "id": "Ryr3PyYqhPCh",
        "colab_type": "code",
        "colab": {}
      },
      "source": [
        "# modules\n",
        "%reload_ext tensorboard\n",
        "%matplotlib inline\n",
        "import matplotlib.pyplot as plt\n",
        "import numpy as np\n",
        "import tensorflow as tf\n",
        "import tensorflow.keras as K"
      ],
      "execution_count": 3,
      "outputs": []
    },
    {
      "cell_type": "code",
      "metadata": {
        "id": "1cNZxKOtozWF",
        "colab_type": "code",
        "colab": {
          "base_uri": "https://localhost:8080/",
          "height": 235
        },
        "outputId": "9a46585f-5845-424c-cb6e-140e6db33e8f"
      },
      "source": [
        "# install GPy and GPyOpt\n",
        "!pip install GPy\n",
        "!pip install GPyOpt"
      ],
      "execution_count": 4,
      "outputs": [
        {
          "output_type": "stream",
          "text": [
            "Requirement already satisfied: GPy in /usr/local/lib/python3.6/dist-packages (1.9.9)\n",
            "Requirement already satisfied: paramz>=0.9.0 in /usr/local/lib/python3.6/dist-packages (from GPy) (0.9.5)\n",
            "Requirement already satisfied: scipy>=0.16 in /usr/local/lib/python3.6/dist-packages (from GPy) (1.4.1)\n",
            "Requirement already satisfied: six in /usr/local/lib/python3.6/dist-packages (from GPy) (1.15.0)\n",
            "Requirement already satisfied: numpy>=1.7 in /usr/local/lib/python3.6/dist-packages (from GPy) (1.18.5)\n",
            "Requirement already satisfied: decorator>=4.0.10 in /usr/local/lib/python3.6/dist-packages (from paramz>=0.9.0->GPy) (4.4.2)\n",
            "Requirement already satisfied: GPyOpt in /usr/local/lib/python3.6/dist-packages (1.2.6)\n",
            "Requirement already satisfied: scipy>=0.16 in /usr/local/lib/python3.6/dist-packages (from GPyOpt) (1.4.1)\n",
            "Requirement already satisfied: GPy>=1.8 in /usr/local/lib/python3.6/dist-packages (from GPyOpt) (1.9.9)\n",
            "Requirement already satisfied: numpy>=1.7 in /usr/local/lib/python3.6/dist-packages (from GPyOpt) (1.18.5)\n",
            "Requirement already satisfied: six in /usr/local/lib/python3.6/dist-packages (from GPy>=1.8->GPyOpt) (1.15.0)\n",
            "Requirement already satisfied: paramz>=0.9.0 in /usr/local/lib/python3.6/dist-packages (from GPy>=1.8->GPyOpt) (0.9.5)\n",
            "Requirement already satisfied: decorator>=4.0.10 in /usr/local/lib/python3.6/dist-packages (from paramz>=0.9.0->GPy>=1.8->GPyOpt) (4.4.2)\n"
          ],
          "name": "stdout"
        }
      ]
    },
    {
      "cell_type": "code",
      "metadata": {
        "id": "Et44pDbhxWhf",
        "colab_type": "code",
        "colab": {}
      },
      "source": [
        "# import GPy Module\n",
        "import GPy\n",
        "import GPyOpt\n",
        "from GPyOpt.methods import BayesianOptimization"
      ],
      "execution_count": 5,
      "outputs": []
    },
    {
      "cell_type": "markdown",
      "metadata": {
        "id": "OHWNjTy0kTfu",
        "colab_type": "text"
      },
      "source": [
        "LOAD DATASET"
      ]
    },
    {
      "cell_type": "code",
      "metadata": {
        "id": "RkBvMEcni0uk",
        "colab_type": "code",
        "colab": {
          "base_uri": "https://localhost:8080/",
          "height": 67
        },
        "outputId": "90b0af1e-86f9-4c01-b473-ea354de181a6"
      },
      "source": [
        "# setting the train and test data \n",
        "# datasets = mnist.load_data()\n",
        "datasets = np.load('../content/MNIST.npz')\n",
        "X_train = datasets['X_train']\n",
        "X_train = X_train.reshape(X_train.shape[0], -1)\n",
        "Y_train = datasets['Y_train']\n",
        "X_valid = datasets['X_valid']\n",
        "X_valid = X_valid.reshape(X_valid.shape[0], -1)\n",
        "Y_valid = datasets['Y_valid']\n",
        "\n",
        "print(\"Size of:\")\n",
        "print(\"- Training-set:\\t\\t{}\".format(X_train.shape))\n",
        "print(\"- Validation-set:\\t{}\".format(X_valid.shape))"
      ],
      "execution_count": 6,
      "outputs": [
        {
          "output_type": "stream",
          "text": [
            "Size of:\n",
            "- Training-set:\t\t(50000, 784)\n",
            "- Validation-set:\t(10000, 784)\n"
          ],
          "name": "stdout"
        }
      ]
    },
    {
      "cell_type": "markdown",
      "metadata": {
        "id": "HnE2xoY3kWc7",
        "colab_type": "text"
      },
      "source": [
        "ONE HOT FUNCTION"
      ]
    },
    {
      "cell_type": "code",
      "metadata": {
        "id": "YJ8wmuLYi6Ag",
        "colab_type": "code",
        "colab": {}
      },
      "source": [
        "def one_hot(labels, classes=None):\n",
        "    \"\"\"\n",
        "    that converts a label vector into a one-hot matrix:\n",
        "\n",
        "    The last dimension of the one-hot matrix must be the number of classes\n",
        "    Returns: the one-hot matrix\n",
        "    \"\"\"\n",
        "    one_hot = K.utils.to_categorical(y=labels, num_classes=classes)\n",
        "    return one_hot"
      ],
      "execution_count": 7,
      "outputs": []
    },
    {
      "cell_type": "code",
      "metadata": {
        "id": "vEVDLo9ljJWP",
        "colab_type": "code",
        "colab": {
          "base_uri": "https://localhost:8080/",
          "height": 67
        },
        "outputId": "313fdb18-2d86-48b9-ffd5-041fc65b1c51"
      },
      "source": [
        "Y_train_oh = one_hot(Y_train)\n",
        "Y_valid_oh = one_hot(Y_valid)\n",
        "\n",
        "print(\"Size of:\")\n",
        "print(\"- Training-set:\\t\\t{}\".format(Y_train.shape))\n",
        "print(\"- Validation-set:\\t{}\".format(Y_valid.shape))"
      ],
      "execution_count": 8,
      "outputs": [
        {
          "output_type": "stream",
          "text": [
            "Size of:\n",
            "- Training-set:\t\t(50000,)\n",
            "- Validation-set:\t(10000,)\n"
          ],
          "name": "stdout"
        }
      ]
    },
    {
      "cell_type": "markdown",
      "metadata": {
        "id": "JXg7rXC2kZ23",
        "colab_type": "text"
      },
      "source": [
        "MODEL STRUCTURE"
      ]
    },
    {
      "cell_type": "code",
      "metadata": {
        "id": "rUow_it3jM6-",
        "colab_type": "code",
        "colab": {}
      },
      "source": [
        "def build_model(nx, layers, activations, lambtha, keep_prob):\n",
        "    \"\"\"\n",
        "    * nx is the number of input features to the network\n",
        "    * layers is a list containing the number of nodes in each layer of the\n",
        "        network\n",
        "    * activations is a list containing the activation functions used for each\n",
        "        layer of the network\n",
        "    * lambtha is the L2 regularization parameter\n",
        "    * keep_prob is the probability that a node will be kept for dropout\n",
        "    * You are not allowed to use the Input class\n",
        "    * Returns: the keras model\n",
        "    \"\"\"\n",
        "    reg = K.regularizers.l2(lambtha)\n",
        "\n",
        "    X = K.Input(shape=(nx,))\n",
        "    layer_l2 = K.layers.Dense(units=layers[0], activation=activations[0],\n",
        "                              kernel_regularizer=reg)\n",
        "    Y_prev = layer_l2(X)\n",
        "\n",
        "    for i in range(1, len(layers)):\n",
        "\n",
        "        layer_drop = K.layers.Dropout(1 - keep_prob)\n",
        "        Y = layer_drop(Y_prev)\n",
        "\n",
        "        layer_l2 = K.layers.Dense(units=layers[i], activation=activations[i],\n",
        "                                  kernel_regularizer=reg)\n",
        "        Y_prev = layer_l2(Y)\n",
        "\n",
        "    Y_pred = Y_prev\n",
        "    model = K.Model(inputs=X, outputs=Y_pred)\n",
        "    return model"
      ],
      "execution_count": 9,
      "outputs": []
    },
    {
      "cell_type": "markdown",
      "metadata": {
        "id": "_M_KD1JUkdkS",
        "colab_type": "text"
      },
      "source": [
        "MODEL OPTIMIZER"
      ]
    },
    {
      "cell_type": "code",
      "metadata": {
        "id": "gsPYzhhJj_VQ",
        "colab_type": "code",
        "colab": {}
      },
      "source": [
        "def optimize_model(network, alpha, beta1, beta2):\n",
        "    \"\"\"\n",
        "    * that sets up Adam optimization for a keras model with\n",
        "         categorical crossentropy loss and accuracy metrics:\n",
        "    * network is the model to optimize\n",
        "    * alpha is the learning rate\n",
        "    * beta1 is the first Adam optimization parameter\n",
        "    * beta2 is the second Adam optimization parameter\n",
        "    Returns: None\n",
        "    \"\"\"\n",
        "    Adam = K.optimizers.Adam(lr=alpha, beta_1=beta1, beta_2=beta2)\n",
        "    network.compile(loss='categorical_crossentropy', optimizer=Adam,\n",
        "                    metrics=['accuracy'])\n",
        "    return None"
      ],
      "execution_count": 10,
      "outputs": []
    },
    {
      "cell_type": "code",
      "metadata": {
        "id": "y06BHoyRmPxn",
        "colab_type": "code",
        "colab": {}
      },
      "source": [
        "def train_model(network, data, labels, batch_size, epochs,\n",
        "                validation_data=None, early_stopping=False, patience=0,\n",
        "                learning_rate_decay=False, alpha=0.1, decay_rate=1,\n",
        "                save_best=False, filepath=None, verbose=True, shuffle=False):\n",
        "    \"\"\"\n",
        "    * network is the model to train\n",
        "    * data is a numpy.ndarray of shape (m, nx) containing the input data\n",
        "    * labels is a one-hot numpy.ndarray of shape (m, classes) containing\n",
        "            the labels of data\n",
        "    * batch_size is the size of the batch used for mini-batch gradient descent\n",
        "    * epochs is the number of passes through data for mini-batch\n",
        "             gradient descent\n",
        "    * verbose is a boolean that determines if output should be printed during\n",
        "            training\n",
        "    * shuffle is a boolean that determines whether to shuffle the batches every\n",
        "          epoch. Normally, it is a good idea to shuffle, but for\n",
        "          reproducibility we have chosen to set the default to False.\n",
        "    * early_stopping is a boolean that indicates whether early stopping\n",
        "          should be used\n",
        "          early stopping should only be performed if validation_data exists\n",
        "          early stopping should be based on validation loss\n",
        "    * patience is the patience used for early stopping\n",
        "    * learning_rate_decay is a boolean that indicates whether learning rate\n",
        "          decay should be used\n",
        "      learning rate decay should only be performed if validation_data exists\n",
        "      the decay should be performed using inverse time decay\n",
        "      the learning rate should decay in a stepwise fashion after each epoch\n",
        "    * each time the learning rate updates, Keras should print a message\n",
        "           alpha is the initial learning rate\n",
        "           decay_rate is the decay rate\n",
        "    * save_best is a boolean indicating whether to save the model after each\n",
        "           epoch if it is the best\n",
        "    * a model is considered the best if its validation loss is the lowest that\n",
        "           the model has obtained\n",
        "    * filepath is the file path where the model should be saved\n",
        "    Returns: the History object generated after training the model\n",
        "    \"\"\"\n",
        "\n",
        "    def learning_decay(epoch):\n",
        "        \"\"\"\n",
        "        funcion in the learningRateSchedule\n",
        "        the alpha doesnt change\n",
        "        \"\"\"\n",
        "        return alpha / (1 + decay_rate * (epoch / 1))\n",
        "\n",
        "    my_list = []\n",
        "    if early_stopping is True and validation_data:\n",
        "        early = K.callbacks.EarlyStopping(patience=patience)\n",
        "        my_list.append(early)\n",
        "\n",
        "    if learning_rate_decay is True and validation_data:\n",
        "        learn_dec = K.callbacks.LearningRateScheduler(learning_decay,\n",
        "                                                      verbose=1)\n",
        "        my_list.append(learn_dec)\n",
        "\n",
        "    if save_best is True and validation_data:\n",
        "        save = K.callbacks.ModelCheckpoint(filepath=filepath,\n",
        "                                           save_best_only=True)\n",
        "        my_list.append(save)\n",
        "\n",
        "    if len(my_list) == 0:\n",
        "        my_list = None\n",
        "\n",
        "    history = network.fit(x=data, y=labels, batch_size=batch_size,\n",
        "                          epochs=epochs, verbose=verbose, shuffle=shuffle,\n",
        "                          validation_data=validation_data, callbacks=my_list)\n",
        "    \n",
        "    return history\n"
      ],
      "execution_count": 11,
      "outputs": []
    },
    {
      "cell_type": "markdown",
      "metadata": {
        "id": "mF85fd7sxaUh",
        "colab_type": "text"
      },
      "source": [
        "FUNCTIONS DEFINITIONS\n"
      ]
    },
    {
      "cell_type": "code",
      "metadata": {
        "id": "6h4HjA4imdjR",
        "colab_type": "code",
        "colab": {}
      },
      "source": [
        "best_accuracy = 0\n",
        "\n",
        "def F(l2, lr, drop, unit, bch_size):\n",
        "    print('Input', l2, lr, drop, unit, bch_size)\n",
        "    lambtha = l2\n",
        "    keep_prob = drop\n",
        "    network = build_model(784, [int(unit), int(unit), 10], ['relu', 'relu', 'softmax'], lambtha, keep_prob)\n",
        "    alpha = lr\n",
        "    beta1 = 0.9\n",
        "    beta2 = 0.999\n",
        "    optimize_model(network, alpha, beta1, beta2)\n",
        "    batch_size = int(bch_size)\n",
        "    epochs = 5\n",
        "    \n",
        "    filepath = 'model_lambda{}_keepprob{}_batch{}_units{}_learningr{}.h5'.format(lambtha, keep_prob, batch_size, int(unit), lr)\n",
        "\n",
        "    history = train_model(network, X_train, Y_train_oh, batch_size, epochs,\n",
        "                          validation_data=(X_valid, Y_valid_oh), early_stopping=True,\n",
        "                          patience=3, learning_rate_decay=True, alpha=alpha,\n",
        "                          save_best=True, filepath=filepath)\n",
        "   \n",
        "\n",
        "    # Get the classification accuracy on the validation-set\n",
        "    # after the last training-epoch.\n",
        "    global best_accuracy\n",
        "    accuracy = history.history['val_accuracy'][-1]\n",
        "\n",
        "    # Print the classification accuracy.\n",
        "    print()\n",
        "    print(\"Accuracy: {0:.2%}\".format(accuracy))\n",
        "    print()\n",
        "\n",
        "    # Save the model if it improves on the best-found performance.\n",
        "    # We use the global keyword so we update the variable outside\n",
        "    # of this function.\n",
        "    \n",
        "    print(accuracy, best_accuracy)\n",
        "    path_best_model='best.h5'\n",
        "\n",
        "    # If the classification accuracy of the saved model is improved ...\n",
        "    if accuracy > best_accuracy:\n",
        "        # Save the new model to harddisk.\n",
        "        network.save(path_best_model)\n",
        "        \n",
        "        # Update the classification accuracy.\n",
        "        best_accuracy = accuracy\n",
        "\n",
        "    # Delete the Keras model with these hyper-parameters from memory.\n",
        "    del network\n",
        "\n",
        "    tf.keras.backend.clear_session()\n",
        "    \n",
        "    return accuracy\n",
        "\n",
        "\n",
        "def f(X):\n",
        "  Y = np.zeros((X.shape[0], 1))\n",
        "  for i in range(X.shape[0]):\n",
        "    Y[i] = F(X[i][0], X[i][1], X[i][2], X[i][3], X[i][4])\n",
        "    \n",
        "  return(Y)"
      ],
      "execution_count": 12,
      "outputs": []
    },
    {
      "cell_type": "code",
      "metadata": {
        "id": "S86-d9D5xtCL",
        "colab_type": "code",
        "colab": {
          "base_uri": "https://localhost:8080/",
          "height": 857
        },
        "outputId": "e6fbffdb-6388-4048-917b-dc7bd1317967"
      },
      "source": [
        "\n",
        "X_init = np.array([[0.001, 0.0001, 0.015, 448, 128], [0.00809, 0.00624, 0.42, 500, 16]])\n",
        "Y_init = f(X_init)"
      ],
      "execution_count": 14,
      "outputs": [
        {
          "output_type": "stream",
          "text": [
            "Input 0.001 0.0001 0.015 448.0 128.0\n",
            "\n",
            "Epoch 00001: LearningRateScheduler reducing learning rate to 0.0001.\n",
            "Epoch 1/5\n",
            "391/391 [==============================] - 6s 16ms/step - loss: 7.2735 - accuracy: 0.0957 - val_loss: 2.8966 - val_accuracy: 0.1149\n",
            "\n",
            "Epoch 00002: LearningRateScheduler reducing learning rate to 5e-05.\n",
            "Epoch 2/5\n",
            "391/391 [==============================] - 6s 15ms/step - loss: 3.2575 - accuracy: 0.0993 - val_loss: 2.8436 - val_accuracy: 0.1084\n",
            "\n",
            "Epoch 00003: LearningRateScheduler reducing learning rate to 3.3333333333333335e-05.\n",
            "Epoch 3/5\n",
            "391/391 [==============================] - 6s 15ms/step - loss: 3.0467 - accuracy: 0.1029 - val_loss: 2.8246 - val_accuracy: 0.1083\n",
            "\n",
            "Epoch 00004: LearningRateScheduler reducing learning rate to 2.5e-05.\n",
            "Epoch 4/5\n",
            "391/391 [==============================] - 6s 15ms/step - loss: 2.9570 - accuracy: 0.1043 - val_loss: 2.8149 - val_accuracy: 0.1068\n",
            "\n",
            "Epoch 00005: LearningRateScheduler reducing learning rate to 2e-05.\n",
            "Epoch 5/5\n",
            "391/391 [==============================] - 6s 15ms/step - loss: 2.9174 - accuracy: 0.1046 - val_loss: 2.8088 - val_accuracy: 0.1067\n",
            "\n",
            "Accuracy: 10.67%\n",
            "\n",
            "0.10670000314712524 0\n",
            "Input 0.00809 0.00624 0.42 500.0 16.0\n",
            "\n",
            "Epoch 00001: LearningRateScheduler reducing learning rate to 0.00624.\n",
            "Epoch 1/5\n",
            "3125/3125 [==============================] - 23s 7ms/step - loss: 2.0176 - accuracy: 0.6068 - val_loss: 1.2944 - val_accuracy: 0.8273\n",
            "\n",
            "Epoch 00002: LearningRateScheduler reducing learning rate to 0.00312.\n",
            "Epoch 2/5\n",
            "3125/3125 [==============================] - 24s 8ms/step - loss: 1.4895 - accuracy: 0.6492 - val_loss: 1.0509 - val_accuracy: 0.8572\n",
            "\n",
            "Epoch 00003: LearningRateScheduler reducing learning rate to 0.00208.\n",
            "Epoch 3/5\n",
            "3125/3125 [==============================] - 23s 7ms/step - loss: 1.3475 - accuracy: 0.6933 - val_loss: 0.9548 - val_accuracy: 0.8813\n",
            "\n",
            "Epoch 00004: LearningRateScheduler reducing learning rate to 0.00156.\n",
            "Epoch 4/5\n",
            "3125/3125 [==============================] - 23s 7ms/step - loss: 1.2777 - accuracy: 0.7135 - val_loss: 0.8955 - val_accuracy: 0.8755\n",
            "\n",
            "Epoch 00005: LearningRateScheduler reducing learning rate to 0.001248.\n",
            "Epoch 5/5\n",
            "3125/3125 [==============================] - 23s 7ms/step - loss: 1.2373 - accuracy: 0.7311 - val_loss: 0.8589 - val_accuracy: 0.8911\n",
            "\n",
            "Accuracy: 89.11%\n",
            "\n",
            "0.8910999894142151 0.10670000314712524\n"
          ],
          "name": "stdout"
        }
      ]
    },
    {
      "cell_type": "code",
      "metadata": {
        "id": "9WZ-pExa2s4t",
        "colab_type": "code",
        "colab": {
          "base_uri": "https://localhost:8080/",
          "height": 50
        },
        "outputId": "a4798a64-d491-442f-a178-0cdb966cd74c"
      },
      "source": [
        "print(Y_init)"
      ],
      "execution_count": 15,
      "outputs": [
        {
          "output_type": "stream",
          "text": [
            "[[0.1067    ]\n",
            " [0.89109999]]\n"
          ],
          "name": "stdout"
        }
      ]
    },
    {
      "cell_type": "code",
      "metadata": {
        "id": "DVvuQIXh35kZ",
        "colab_type": "code",
        "colab": {
          "base_uri": "https://localhost:8080/",
          "height": 1000
        },
        "outputId": "28c5325d-c69b-4178-c725-35bf0c2767a8"
      },
      "source": [
        "# kernel = GPy.kern.Matern52(input_dim=1, variance=1.0, lengthscale=1.0)\n",
        "bds = [{'name': 'l2', 'type': 'continuous', 'domain': (0.00001, 0.01)},\n",
        "       {'name': 'lr', 'type': 'continuous', 'domain': (0.00001, 0.01)}, # added 1 0 at min\n",
        "       {'name': 'drop', 'type': 'continuous', 'domain': (0, 0.5)},\n",
        "       {'name': 'unit', 'type': 'discrete', 'domain': (64, 512)},\n",
        "       {'name': 'bch_size', 'type': 'discrete', 'domain': (16, 128)}]\n",
        "\n",
        "optimizer = BayesianOptimization(f=f, \n",
        "                                 domain=bds,\n",
        "                                 model_type='GP',\n",
        "                                 #kernel=kernel,\n",
        "                                 acquisition_type ='EI',\n",
        "                                 acquisition_jitter = 0.01,\n",
        "                                 X=X_init,\n",
        "                                 Y=Y_init,\n",
        "                                 exact_feval=False,\n",
        "                                 normalize_Y=False,\n",
        "                                 maximize=True,\n",
        "                                 report_file='bayes_opt.txt')\n",
        "\n",
        "\n",
        "optimizer.run_optimization(max_iter=9)\n",
        "optimizer.plot_acquisition()\n",
        "optimizer.plot_convergence()"
      ],
      "execution_count": 26,
      "outputs": [
        {
          "output_type": "stream",
          "text": [
            "Input 0.009769954830299452 0.008494288476183016 0.06158158082087262 64.0 128.0\n",
            "\n",
            "Epoch 00001: LearningRateScheduler reducing learning rate to 0.008494288476183016.\n",
            "Epoch 1/5\n",
            "391/391 [==============================] - 1s 4ms/step - loss: 2.4628 - accuracy: 0.1130 - val_loss: 2.3035 - val_accuracy: 0.1064\n",
            "\n",
            "Epoch 00002: LearningRateScheduler reducing learning rate to 0.004247144238091508.\n",
            "Epoch 2/5\n",
            "391/391 [==============================] - 1s 3ms/step - loss: 2.3019 - accuracy: 0.1136 - val_loss: 2.3019 - val_accuracy: 0.1064\n",
            "\n",
            "Epoch 00003: LearningRateScheduler reducing learning rate to 0.002831429492061005.\n",
            "Epoch 3/5\n",
            "391/391 [==============================] - 1s 3ms/step - loss: 2.3013 - accuracy: 0.1136 - val_loss: 2.3018 - val_accuracy: 0.1064\n",
            "\n",
            "Epoch 00004: LearningRateScheduler reducing learning rate to 0.002123572119045754.\n",
            "Epoch 4/5\n",
            "391/391 [==============================] - 1s 3ms/step - loss: 2.3012 - accuracy: 0.1136 - val_loss: 2.3019 - val_accuracy: 0.1064\n",
            "\n",
            "Epoch 00005: LearningRateScheduler reducing learning rate to 0.0016988576952366031.\n",
            "Epoch 5/5\n",
            "391/391 [==============================] - 1s 3ms/step - loss: 2.3011 - accuracy: 0.1136 - val_loss: 2.3019 - val_accuracy: 0.1064\n",
            "\n",
            "Accuracy: 10.64%\n",
            "\n",
            "0.10639999806880951 0.9509999752044678\n",
            "Input 0.0033144414581439655 0.006250346188123396 0.4886463319191846 64.0 128.0\n",
            "\n",
            "Epoch 00001: LearningRateScheduler reducing learning rate to 0.006250346188123396.\n",
            "Epoch 1/5\n",
            "391/391 [==============================] - 1s 4ms/step - loss: 1.1914 - accuracy: 0.7315 - val_loss: 0.6585 - val_accuracy: 0.9125\n",
            "\n",
            "Epoch 00002: LearningRateScheduler reducing learning rate to 0.003125173094061698.\n",
            "Epoch 2/5\n",
            "391/391 [==============================] - 1s 3ms/step - loss: 0.9031 - accuracy: 0.8191 - val_loss: 0.5683 - val_accuracy: 0.9237\n",
            "\n",
            "Epoch 00003: LearningRateScheduler reducing learning rate to 0.0020834487293744652.\n",
            "Epoch 3/5\n",
            "391/391 [==============================] - 1s 3ms/step - loss: 0.8464 - accuracy: 0.8330 - val_loss: 0.5392 - val_accuracy: 0.9292\n",
            "\n",
            "Epoch 00004: LearningRateScheduler reducing learning rate to 0.001562586547030849.\n",
            "Epoch 4/5\n",
            "391/391 [==============================] - 1s 3ms/step - loss: 0.8193 - accuracy: 0.8395 - val_loss: 0.5256 - val_accuracy: 0.9305\n",
            "\n",
            "Epoch 00005: LearningRateScheduler reducing learning rate to 0.0012500692376246792.\n",
            "Epoch 5/5\n",
            "391/391 [==============================] - 1s 3ms/step - loss: 0.7941 - accuracy: 0.8472 - val_loss: 0.5183 - val_accuracy: 0.9324\n",
            "\n",
            "Accuracy: 93.24%\n",
            "\n",
            "0.9323999881744385 0.9509999752044678\n",
            "Input 0.01 1e-05 0.3796584443423319 64.0 128.0\n",
            "\n",
            "Epoch 00001: LearningRateScheduler reducing learning rate to 1e-05.\n",
            "Epoch 1/5\n",
            "391/391 [==============================] - 1s 4ms/step - loss: 4.3939 - accuracy: 0.1047 - val_loss: 4.1707 - val_accuracy: 0.1533\n",
            "\n",
            "Epoch 00002: LearningRateScheduler reducing learning rate to 5e-06.\n",
            "Epoch 2/5\n",
            "391/391 [==============================] - 1s 3ms/step - loss: 4.2295 - accuracy: 0.1165 - val_loss: 4.0976 - val_accuracy: 0.2093\n",
            "\n",
            "Epoch 00003: LearningRateScheduler reducing learning rate to 3.3333333333333337e-06.\n",
            "Epoch 3/5\n",
            "391/391 [==============================] - 1s 3ms/step - loss: 4.1539 - accuracy: 0.1263 - val_loss: 4.0508 - val_accuracy: 0.2505\n",
            "\n",
            "Epoch 00004: LearningRateScheduler reducing learning rate to 2.5e-06.\n",
            "Epoch 4/5\n",
            "391/391 [==============================] - 1s 3ms/step - loss: 4.1099 - accuracy: 0.1332 - val_loss: 4.0162 - val_accuracy: 0.2801\n",
            "\n",
            "Epoch 00005: LearningRateScheduler reducing learning rate to 2.0000000000000003e-06.\n",
            "Epoch 5/5\n",
            "391/391 [==============================] - 1s 3ms/step - loss: 4.0755 - accuracy: 0.1374 - val_loss: 3.9887 - val_accuracy: 0.3015\n",
            "\n",
            "Accuracy: 30.15%\n",
            "\n",
            "0.30149999260902405 0.9509999752044678\n",
            "Input 1e-05 0.01 0.5 64.0 128.0\n",
            "\n",
            "Epoch 00001: LearningRateScheduler reducing learning rate to 0.01.\n",
            "Epoch 1/5\n",
            "391/391 [==============================] - 1s 4ms/step - loss: 0.7877 - accuracy: 0.7622 - val_loss: 0.2984 - val_accuracy: 0.9275\n",
            "\n",
            "Epoch 00002: LearningRateScheduler reducing learning rate to 0.005.\n",
            "Epoch 2/5\n",
            "391/391 [==============================] - 1s 3ms/step - loss: 0.5219 - accuracy: 0.8533 - val_loss: 0.2324 - val_accuracy: 0.9425\n",
            "\n",
            "Epoch 00003: LearningRateScheduler reducing learning rate to 0.0033333333333333335.\n",
            "Epoch 3/5\n",
            "391/391 [==============================] - 1s 3ms/step - loss: 0.4703 - accuracy: 0.8690 - val_loss: 0.2086 - val_accuracy: 0.9475\n",
            "\n",
            "Epoch 00004: LearningRateScheduler reducing learning rate to 0.0025.\n",
            "Epoch 4/5\n",
            "391/391 [==============================] - 1s 3ms/step - loss: 0.4356 - accuracy: 0.8799 - val_loss: 0.2049 - val_accuracy: 0.9508\n",
            "\n",
            "Epoch 00005: LearningRateScheduler reducing learning rate to 0.002.\n",
            "Epoch 5/5\n",
            "391/391 [==============================] - 1s 3ms/step - loss: 0.4213 - accuracy: 0.8826 - val_loss: 0.2003 - val_accuracy: 0.9508\n",
            "\n",
            "Accuracy: 95.08%\n",
            "\n",
            "0.9508000016212463 0.9509999752044678\n",
            "Input 0.00829320486480246 0.0013275754991799752 0.046361508425338704 512.0 128.0\n",
            "\n",
            "Epoch 00001: LearningRateScheduler reducing learning rate to 0.0013275754991799752.\n",
            "Epoch 1/5\n",
            "391/391 [==============================] - 7s 19ms/step - loss: 4.0920 - accuracy: 0.1870 - val_loss: 2.2621 - val_accuracy: 0.7141\n",
            "\n",
            "Epoch 00002: LearningRateScheduler reducing learning rate to 0.0006637877495899876.\n",
            "Epoch 2/5\n",
            "391/391 [==============================] - 7s 19ms/step - loss: 2.2105 - accuracy: 0.3710 - val_loss: 1.6333 - val_accuracy: 0.7780\n",
            "\n",
            "Epoch 00003: LearningRateScheduler reducing learning rate to 0.0004425251663933251.\n",
            "Epoch 3/5\n",
            "391/391 [==============================] - 7s 18ms/step - loss: 1.9211 - accuracy: 0.4494 - val_loss: 1.4005 - val_accuracy: 0.7868\n",
            "\n",
            "Epoch 00004: LearningRateScheduler reducing learning rate to 0.0003318938747949938.\n",
            "Epoch 4/5\n",
            "391/391 [==============================] - 7s 18ms/step - loss: 1.7783 - accuracy: 0.5052 - val_loss: 1.2822 - val_accuracy: 0.8110\n",
            "\n",
            "Epoch 00005: LearningRateScheduler reducing learning rate to 0.00026551509983599507.\n",
            "Epoch 5/5\n",
            "391/391 [==============================] - 7s 19ms/step - loss: 1.7057 - accuracy: 0.5296 - val_loss: 1.2221 - val_accuracy: 0.8296\n",
            "\n",
            "Accuracy: 82.96%\n",
            "\n",
            "0.8295999765396118 0.9509999752044678\n",
            "Input 0.00741097284894472 0.0017914984172728962 0.17911224688946503 512.0 128.0\n",
            "\n",
            "Epoch 00001: LearningRateScheduler reducing learning rate to 0.0017914984172728962.\n",
            "Epoch 1/5\n",
            "391/391 [==============================] - 8s 19ms/step - loss: 2.3822 - accuracy: 0.7139 - val_loss: 1.0444 - val_accuracy: 0.9023\n",
            "\n",
            "Epoch 00002: LearningRateScheduler reducing learning rate to 0.0008957492086364481.\n",
            "Epoch 2/5\n",
            "391/391 [==============================] - 7s 18ms/step - loss: 1.1377 - accuracy: 0.8275 - val_loss: 0.8387 - val_accuracy: 0.9166\n",
            "\n",
            "Epoch 00003: LearningRateScheduler reducing learning rate to 0.0005971661390909654.\n",
            "Epoch 3/5\n",
            "391/391 [==============================] - 7s 18ms/step - loss: 1.0167 - accuracy: 0.8492 - val_loss: 0.7745 - val_accuracy: 0.9219\n",
            "\n",
            "Epoch 00004: LearningRateScheduler reducing learning rate to 0.00044787460431822406.\n",
            "Epoch 4/5\n",
            "391/391 [==============================] - 7s 18ms/step - loss: 0.9682 - accuracy: 0.8550 - val_loss: 0.7478 - val_accuracy: 0.9209\n",
            "\n",
            "Epoch 00005: LearningRateScheduler reducing learning rate to 0.00035829968345457925.\n",
            "Epoch 5/5\n",
            "391/391 [==============================] - 7s 18ms/step - loss: 0.9423 - accuracy: 0.8587 - val_loss: 0.7304 - val_accuracy: 0.9250\n",
            "\n",
            "Accuracy: 92.50%\n",
            "\n",
            "0.925000011920929 0.9509999752044678\n",
            "Input 1e-05 0.01 0.33450258210924294 512.0 128.0\n",
            "\n",
            "Epoch 00001: LearningRateScheduler reducing learning rate to 0.01.\n",
            "Epoch 1/5\n",
            "391/391 [==============================] - 7s 19ms/step - loss: 0.9032 - accuracy: 0.7614 - val_loss: 0.4277 - val_accuracy: 0.8998\n",
            "\n",
            "Epoch 00002: LearningRateScheduler reducing learning rate to 0.005.\n",
            "Epoch 2/5\n",
            "391/391 [==============================] - 7s 19ms/step - loss: 0.6596 - accuracy: 0.8371 - val_loss: 0.3267 - val_accuracy: 0.9351\n",
            "\n",
            "Epoch 00003: LearningRateScheduler reducing learning rate to 0.0033333333333333335.\n",
            "Epoch 3/5\n",
            "391/391 [==============================] - 7s 18ms/step - loss: 0.5047 - accuracy: 0.8794 - val_loss: 0.3045 - val_accuracy: 0.9439\n",
            "\n",
            "Epoch 00004: LearningRateScheduler reducing learning rate to 0.0025.\n",
            "Epoch 4/5\n",
            "391/391 [==============================] - 7s 18ms/step - loss: 0.4437 - accuracy: 0.8948 - val_loss: 0.2791 - val_accuracy: 0.9490\n",
            "\n",
            "Epoch 00005: LearningRateScheduler reducing learning rate to 0.002.\n",
            "Epoch 5/5\n",
            "391/391 [==============================] - 7s 18ms/step - loss: 0.4074 - accuracy: 0.9026 - val_loss: 0.2777 - val_accuracy: 0.9485\n",
            "\n",
            "Accuracy: 94.85%\n",
            "\n",
            "0.9484999775886536 0.9509999752044678\n",
            "Input 0.01 1e-05 0.5 512.0 128.0\n",
            "\n",
            "Epoch 00001: LearningRateScheduler reducing learning rate to 1e-05.\n",
            "Epoch 1/5\n",
            "391/391 [==============================] - 7s 18ms/step - loss: 13.1077 - accuracy: 0.2299 - val_loss: 12.2065 - val_accuracy: 0.7241\n",
            "\n",
            "Epoch 00002: LearningRateScheduler reducing learning rate to 5e-06.\n",
            "Epoch 2/5\n",
            "391/391 [==============================] - 7s 18ms/step - loss: 11.9833 - accuracy: 0.4532 - val_loss: 11.4494 - val_accuracy: 0.7734\n",
            "\n",
            "Epoch 00003: LearningRateScheduler reducing learning rate to 3.3333333333333337e-06.\n",
            "Epoch 3/5\n",
            "391/391 [==============================] - 7s 18ms/step - loss: 11.3977 - accuracy: 0.5378 - val_loss: 10.9636 - val_accuracy: 0.7901\n",
            "\n",
            "Epoch 00004: LearningRateScheduler reducing learning rate to 2.5e-06.\n",
            "Epoch 4/5\n",
            "391/391 [==============================] - 7s 18ms/step - loss: 11.0018 - accuracy: 0.5790 - val_loss: 10.6141 - val_accuracy: 0.8021\n",
            "\n",
            "Epoch 00005: LearningRateScheduler reducing learning rate to 2.0000000000000003e-06.\n",
            "Epoch 5/5\n",
            "391/391 [==============================] - 7s 18ms/step - loss: 10.7060 - accuracy: 0.6061 - val_loss: 10.3456 - val_accuracy: 0.8095\n",
            "\n",
            "Accuracy: 80.95%\n",
            "\n",
            "0.809499979019165 0.9509999752044678\n",
            "Input 0.0006786101538609966 0.0029668956112427407 0.2247324243290031 512.0 16.0\n",
            "\n",
            "Epoch 00001: LearningRateScheduler reducing learning rate to 0.0029668956112427407.\n",
            "Epoch 1/5\n",
            "3125/3125 [==============================] - 26s 8ms/step - loss: 1.6037 - accuracy: 0.6988 - val_loss: 1.0332 - val_accuracy: 0.8880\n",
            "\n",
            "Epoch 00002: LearningRateScheduler reducing learning rate to 0.0014834478056213703.\n",
            "Epoch 2/5\n",
            "3125/3125 [==============================] - 30s 10ms/step - loss: 1.1648 - accuracy: 0.7990 - val_loss: 0.6679 - val_accuracy: 0.9266\n",
            "\n",
            "Epoch 00003: LearningRateScheduler reducing learning rate to 0.0009889652037475803.\n",
            "Epoch 3/5\n",
            "3125/3125 [==============================] - 26s 8ms/step - loss: 0.9146 - accuracy: 0.8327 - val_loss: 0.5288 - val_accuracy: 0.9378\n",
            "\n",
            "Epoch 00004: LearningRateScheduler reducing learning rate to 0.0007417239028106852.\n",
            "Epoch 4/5\n",
            "3125/3125 [==============================] - 25s 8ms/step - loss: 0.7961 - accuracy: 0.8491 - val_loss: 0.4786 - val_accuracy: 0.9418\n",
            "\n",
            "Epoch 00005: LearningRateScheduler reducing learning rate to 0.0005933791222485481.\n",
            "Epoch 5/5\n",
            "3125/3125 [==============================] - 26s 8ms/step - loss: 0.7289 - accuracy: 0.8581 - val_loss: 0.4245 - val_accuracy: 0.9441\n",
            "\n",
            "Accuracy: 94.41%\n",
            "\n",
            "0.944100022315979 0.9509999752044678\n"
          ],
          "name": "stdout"
        },
        {
          "output_type": "display_data",
          "data": {
            "image/png": "[encoded data removed]",
            "text/plain": [
              "<Figure size 720x360 with 2 Axes>"
            ]
          },
          "metadata": {
            "tags": [],
            "needs_background": "light"
          }
        }
      ]
    },
    {
      "cell_type": "code",
      "metadata": {
        "id": "eljz7mHb6t-B",
        "colab_type": "code",
        "colab": {}
      },
      "source": [
        ""
      ],
      "execution_count": null,
      "outputs": []
    }
  ]
}